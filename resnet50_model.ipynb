{
  "cells": [
    {
      "cell_type": "markdown",
      "metadata": {
        "id": "cB5H68OVfzyx"
      },
      "source": [
        "# Few-shot-learning using swin_v2_t pretrained model"
      ]
    },
    {
      "cell_type": "code",
      "execution_count": null,
      "metadata": {
        "colab": {
          "base_uri": "https://localhost:8080/"
        },
        "id": "MXLvBqVRCD_x",
        "outputId": "82e85077-a4c0-4a7f-873a-5feee398b3d6"
      },
      "outputs": [],
      "source": [
        "!git clone https://github.com/mirna-k/few-shot-learning-project.git"
      ]
    },
    {
      "cell_type": "code",
      "execution_count": null,
      "metadata": {
        "colab": {
          "base_uri": "https://localhost:8080/"
        },
        "id": "Z3v6mfH4f_V3",
        "outputId": "9ddd8a35-d6a9-473f-ad3b-ac675f237f51"
      },
      "outputs": [],
      "source": [
        "%cd few-shot-learning-project/"
      ]
    },
    {
      "cell_type": "code",
      "execution_count": null,
      "metadata": {
        "colab": {
          "base_uri": "https://localhost:8080/"
        },
        "id": "0TEPu3IGtl1e",
        "outputId": "5621bda4-a8b9-4cab-bec0-78623df39f73"
      },
      "outputs": [],
      "source": [
        "import os\n",
        "import json\n",
        "import pandas as pd\n",
        "import numpy as np\n",
        "import torch\n",
        "import torch.nn as nn\n",
        "from torch.utils.data import Dataset, DataLoader\n",
        "import torchvision.transforms as transforms\n",
        "from torchvision import models\n",
        "\n",
        "import matplotlib.pyplot as plt\n",
        "from PIL import Image\n",
        "\n",
        "from easyFSL_helper import *\n",
        "\n",
        "device = torch.device(\"cuda\") if torch.cuda.is_available() else torch.device(\"cpu\")\n",
        "print(\"Device\", device)"
      ]
    },
    {
      "cell_type": "code",
      "execution_count": null,
      "metadata": {
        "id": "xPXmW6DM1ce8"
      },
      "outputs": [],
      "source": [
        "dataset_path = 'animals_dataset'\n",
        "labelmap_path = 'animals_label_map.json'\n",
        "\n",
        "N = 5 # n_classes\n",
        "K = 5  # n_support_images\n",
        "n_query = 10"
      ]
    },
    {
      "cell_type": "code",
      "execution_count": null,
      "metadata": {
        "id": "AGOiGy-WtrW9"
      },
      "outputs": [],
      "source": [
        "val_transform = transforms.Compose([\n",
        "    transforms.Resize((180, 180)),\n",
        "    transforms.ToTensor(),\n",
        "    transforms.Normalize(mean=[0.485, 0.456, 0.406], std=[0.229, 0.224, 0.225])\n",
        "])"
      ]
    },
    {
      "cell_type": "code",
      "execution_count": null,
      "metadata": {
        "id": "9YtYYg3x1rI3"
      },
      "outputs": [],
      "source": [
        "class ClassData:\n",
        "    def __init__(self, support_dir, query_dir, class_name, label, cro_name, description, transform=None):\n",
        "        self.class_name = class_name\n",
        "        self.label = label\n",
        "        self.cro_name = cro_name\n",
        "        self.description = description\n",
        "        self.images = []\n",
        "\n",
        "        support_images_paths = [os.path.join(support_dir, filename) for filename in os.listdir(support_dir)]\n",
        "        query_images_paths = [os.path.join(query_dir, filename) for filename in os.listdir(query_dir)]\n",
        "\n",
        "        for image_path in support_images_paths:\n",
        "            image = Image.open(image_path)\n",
        "            if transform:\n",
        "                image = transform(image)\n",
        "            self.images.append(image)\n",
        "\n",
        "        for image_path in query_images_paths:\n",
        "            image = Image.open(image_path)\n",
        "            if transform:\n",
        "                image = transform(image)\n",
        "            self.images.append(image)\n",
        "\n",
        "        self.images = torch.stack(self.images)\n",
        "        self.len = len(self.images)\n",
        "\n",
        "    def __len__(self):\n",
        "        return self.len\n",
        "\n",
        "    @classmethod\n",
        "    def get_class_data(cls, dataset_dir, class_label_map_json, transform=None):\n",
        "        sets = {}\n",
        "\n",
        "        with open(class_label_map_json, 'r') as f:\n",
        "            class_label_map = json.load(f)\n",
        "\n",
        "        for class_name, attributes in class_label_map.items():\n",
        "            label = attributes['label']\n",
        "            cro_name = attributes['cro_name']\n",
        "            description = attributes['description']\n",
        "\n",
        "            class_dir = os.path.join(dataset_dir, class_name)\n",
        "            if os.path.isdir(class_dir):\n",
        "                support_dir = os.path.join(class_dir, \"support\")\n",
        "                query_dir = os.path.join(class_dir, \"query\")\n",
        "                sets[label] = cls(support_dir, query_dir, class_name, label, cro_name, description, transform)\n",
        "\n",
        "        return sets\n",
        "\n",
        "\n",
        "class CustomDataset(Dataset):\n",
        "    def __init__(self, class_data):\n",
        "        self.class_data = class_data\n",
        "        self.images = []\n",
        "        self.labels = []\n",
        "\n",
        "        for label, data in class_data.items():\n",
        "            self.images.extend(data.images)\n",
        "            self.labels.extend([label] * len(data))\n",
        "\n",
        "    def __len__(self):\n",
        "        return len(self.images)\n",
        "\n",
        "    def __getitem__(self, idx):\n",
        "        image = self.images[idx]\n",
        "        label = self.labels[idx]\n",
        "        return image, label"
      ]
    },
    {
      "cell_type": "code",
      "execution_count": null,
      "metadata": {
        "colab": {
          "base_uri": "https://localhost:8080/"
        },
        "id": "GQ99sXJ8ybGn",
        "outputId": "684ec1ff-ca7c-40bc-c191-2561256b5e16"
      },
      "outputs": [],
      "source": [
        "batch_size = 128\n",
        "\n",
        "class_data = ClassData.get_class_data(dataset_path, labelmap_path, val_transform)\n",
        "dataset = CustomDataset(class_data)\n",
        "\n",
        "data_loader = DataLoader(dataset, batch_size=batch_size, shuffle=False)\n",
        "\n",
        "resnet = models.resnet50(weights=models.ResNet50_Weights.IMAGENET1K_V1)\n",
        "resnet = nn.Sequential(*list(resnet.children())[:-1])  \n",
        "\n",
        "flatten_layer = nn.Flatten()\n",
        "\n",
        "model = nn.Sequential(\n",
        "    resnet,\n",
        "    flatten_layer\n",
        ")\n",
        "\n",
        "device = torch.device(\"cuda\" if torch.cuda.is_available() else \"cpu\")\n",
        "model = model.to(device)"
      ]
    },
    {
      "cell_type": "code",
      "execution_count": null,
      "metadata": {
        "colab": {
          "base_uri": "https://localhost:8080/",
          "height": 158,
          "referenced_widgets": [
            "0b4d9b7b144240b0a87c3d31f5f24445",
            "99538ba497c54cc2945e3137d05c7e3f",
            "596f30192daa4d8a867309c1ee07921e",
            "3e741a2bce5b461d9f4f135876380206",
            "860fbeee0fbe486c82f4380679b6cb04",
            "1b619b6b84b34858bf28e4b0cefe4fe8",
            "a263c1eddca544dc8e7b99cf633f009c",
            "7f523aa0742f4328baa9e8464c01c98a",
            "3a6521f06d334143879babd620add49c",
            "1db3966f9b7c4813b75c4cc1f4dd3ac9",
            "71819b8897084a9f8707ad3d40fd0e53"
          ]
        },
        "id": "duOI4IdR42uu",
        "outputId": "2cd5965a-078b-4be9-db5d-79a6fc70c615"
      },
      "outputs": [],
      "source": [
        "embeddings_df = predict_embeddings(data_loader, model, device=device)\n",
        "\n",
        "print(embeddings_df.head())"
      ]
    },
    {
      "cell_type": "code",
      "execution_count": null,
      "metadata": {
        "collapsed": true,
        "id": "UO14wiEB8Rc6"
      },
      "outputs": [],
      "source": [
        "features_dataset = FeaturesDataset.from_dataframe(embeddings_df)"
      ]
    },
    {
      "cell_type": "code",
      "execution_count": null,
      "metadata": {
        "id": "yZlgMgzQ_yLS"
      },
      "outputs": [],
      "source": [
        "task_sampler = TaskSampler(features_dataset, n_way=N, n_shot=K, n_query=n_query, n_tasks=100)\n",
        "\n",
        "features_loader = DataLoader(features_dataset, batch_sampler=task_sampler, pin_memory=True, collate_fn=task_sampler.episodic_collate_fn)"
      ]
    },
    {
      "cell_type": "code",
      "execution_count": null,
      "metadata": {
        "id": "0qJJnpJdALec"
      },
      "outputs": [],
      "source": [
        "few_shot_classifier = PrototypicalNetworks(backbone=nn.Identity())"
      ]
    },
    {
      "cell_type": "code",
      "execution_count": null,
      "metadata": {
        "colab": {
          "base_uri": "https://localhost:8080/",
          "height": 104,
          "referenced_widgets": [
            "14759cc7657344c588f744149465b811",
            "a5f4b605d33d46b6883a05b237961104",
            "49db4ab8499d400bb4d41caae08ab37b",
            "ee31329811e547aaa27f5cfa4727f318",
            "e790e7ea027d46cab2697ba4a413dbf7",
            "decbe69058ab40f5bd0d2e7950e51a92",
            "63c5f223d6394483bc4f7ad32b822ab6",
            "9b4d5eab51d040deafe133d95691e448",
            "3a3ac57af97f4eb9bfd9cc1091092aa6",
            "c9f9616f0363444681ef1f7eed5cda69",
            "b39035d87c3e415880699e5a8f4f6f6a"
          ]
        },
        "id": "Vrd24lEyAMIp",
        "outputId": "fdbf2f06-0e58-4f55-f370-0ac11d08ef0f"
      },
      "outputs": [],
      "source": [
        "accuracy, macro_precision, macro_recall = evaluate(few_shot_classifier, features_loader, device=\"cpu\")\n",
        "\n",
        "print(f\"Average accuracy : {(100 * accuracy):.6f} %\\nMacro precision: {(100 * macro_precision):.6f}%\\nMacro recall: {(100 * macro_recall):.6f}%\")"
      ]
    },
    {
      "cell_type": "code",
      "execution_count": null,
      "metadata": {
        "colab": {
          "base_uri": "https://localhost:8080/",
          "height": 802
        },
        "id": "m_fyxRV1XziR",
        "outputId": "e635d62c-1789-405d-c993-af224478aab5"
      },
      "outputs": [],
      "source": [
        "import torchvision\n",
        "\n",
        "def plot_images(images: Tensor, title: str, images_per_row: int):\n",
        "    plt.figure()\n",
        "    plt.title(title)\n",
        "    plt.imshow(torchvision.utils.make_grid(images, nrow=images_per_row).permute(1, 2, 0))\n",
        "\n",
        "\n",
        "dataset.get_labels = lambda: [instance for instance in dataset.labels]\n",
        "\n",
        "task_sampler = TaskSampler(dataset, n_way=N, n_shot=K, n_query=n_query, n_tasks=100)\n",
        "support_loader =  DataLoader(dataset, batch_sampler=task_sampler, pin_memory=True, collate_fn=task_sampler.episodic_collate_fn)\n",
        "\n",
        "(support_images, support_labels, query_images, query_labels, class_ids,) = next(iter(support_loader))\n",
        "\n",
        "plot_images(support_images, \"support images\", images_per_row=K)\n",
        "plot_images(query_images, \"query images\", images_per_row=n_query)"
      ]
    }
  ],
  "metadata": {
    "accelerator": "GPU",
    "colab": {
      "gpuType": "T4",
      "provenance": []
    },
    "kernelspec": {
      "display_name": "Python 3",
      "name": "python3"
    },
    "language_info": {
      "name": "python",
      "version": "3.10.1"
    },
    "widgets": {
      "application/vnd.jupyter.widget-state+json": {
        "0b4d9b7b144240b0a87c3d31f5f24445": {
          "model_module": "@jupyter-widgets/controls",
          "model_module_version": "1.5.0",
          "model_name": "HBoxModel",
          "state": {
            "_dom_classes": [],
            "_model_module": "@jupyter-widgets/controls",
            "_model_module_version": "1.5.0",
            "_model_name": "HBoxModel",
            "_view_count": null,
            "_view_module": "@jupyter-widgets/controls",
            "_view_module_version": "1.5.0",
            "_view_name": "HBoxView",
            "box_style": "",
            "children": [
              "IPY_MODEL_99538ba497c54cc2945e3137d05c7e3f",
              "IPY_MODEL_596f30192daa4d8a867309c1ee07921e",
              "IPY_MODEL_3e741a2bce5b461d9f4f135876380206"
            ],
            "layout": "IPY_MODEL_860fbeee0fbe486c82f4380679b6cb04"
          }
        },
        "14759cc7657344c588f744149465b811": {
          "model_module": "@jupyter-widgets/controls",
          "model_module_version": "1.5.0",
          "model_name": "HBoxModel",
          "state": {
            "_dom_classes": [],
            "_model_module": "@jupyter-widgets/controls",
            "_model_module_version": "1.5.0",
            "_model_name": "HBoxModel",
            "_view_count": null,
            "_view_module": "@jupyter-widgets/controls",
            "_view_module_version": "1.5.0",
            "_view_name": "HBoxView",
            "box_style": "",
            "children": [
              "IPY_MODEL_a5f4b605d33d46b6883a05b237961104",
              "IPY_MODEL_49db4ab8499d400bb4d41caae08ab37b",
              "IPY_MODEL_ee31329811e547aaa27f5cfa4727f318"
            ],
            "layout": "IPY_MODEL_e790e7ea027d46cab2697ba4a413dbf7"
          }
        },
        "1b619b6b84b34858bf28e4b0cefe4fe8": {
          "model_module": "@jupyter-widgets/base",
          "model_module_version": "1.2.0",
          "model_name": "LayoutModel",
          "state": {
            "_model_module": "@jupyter-widgets/base",
            "_model_module_version": "1.2.0",
            "_model_name": "LayoutModel",
            "_view_count": null,
            "_view_module": "@jupyter-widgets/base",
            "_view_module_version": "1.2.0",
            "_view_name": "LayoutView",
            "align_content": null,
            "align_items": null,
            "align_self": null,
            "border": null,
            "bottom": null,
            "display": null,
            "flex": null,
            "flex_flow": null,
            "grid_area": null,
            "grid_auto_columns": null,
            "grid_auto_flow": null,
            "grid_auto_rows": null,
            "grid_column": null,
            "grid_gap": null,
            "grid_row": null,
            "grid_template_areas": null,
            "grid_template_columns": null,
            "grid_template_rows": null,
            "height": null,
            "justify_content": null,
            "justify_items": null,
            "left": null,
            "margin": null,
            "max_height": null,
            "max_width": null,
            "min_height": null,
            "min_width": null,
            "object_fit": null,
            "object_position": null,
            "order": null,
            "overflow": null,
            "overflow_x": null,
            "overflow_y": null,
            "padding": null,
            "right": null,
            "top": null,
            "visibility": null,
            "width": null
          }
        },
        "1db3966f9b7c4813b75c4cc1f4dd3ac9": {
          "model_module": "@jupyter-widgets/base",
          "model_module_version": "1.2.0",
          "model_name": "LayoutModel",
          "state": {
            "_model_module": "@jupyter-widgets/base",
            "_model_module_version": "1.2.0",
            "_model_name": "LayoutModel",
            "_view_count": null,
            "_view_module": "@jupyter-widgets/base",
            "_view_module_version": "1.2.0",
            "_view_name": "LayoutView",
            "align_content": null,
            "align_items": null,
            "align_self": null,
            "border": null,
            "bottom": null,
            "display": null,
            "flex": null,
            "flex_flow": null,
            "grid_area": null,
            "grid_auto_columns": null,
            "grid_auto_flow": null,
            "grid_auto_rows": null,
            "grid_column": null,
            "grid_gap": null,
            "grid_row": null,
            "grid_template_areas": null,
            "grid_template_columns": null,
            "grid_template_rows": null,
            "height": null,
            "justify_content": null,
            "justify_items": null,
            "left": null,
            "margin": null,
            "max_height": null,
            "max_width": null,
            "min_height": null,
            "min_width": null,
            "object_fit": null,
            "object_position": null,
            "order": null,
            "overflow": null,
            "overflow_x": null,
            "overflow_y": null,
            "padding": null,
            "right": null,
            "top": null,
            "visibility": null,
            "width": null
          }
        },
        "3a3ac57af97f4eb9bfd9cc1091092aa6": {
          "model_module": "@jupyter-widgets/controls",
          "model_module_version": "1.5.0",
          "model_name": "ProgressStyleModel",
          "state": {
            "_model_module": "@jupyter-widgets/controls",
            "_model_module_version": "1.5.0",
            "_model_name": "ProgressStyleModel",
            "_view_count": null,
            "_view_module": "@jupyter-widgets/base",
            "_view_module_version": "1.2.0",
            "_view_name": "StyleView",
            "bar_color": null,
            "description_width": ""
          }
        },
        "3a6521f06d334143879babd620add49c": {
          "model_module": "@jupyter-widgets/controls",
          "model_module_version": "1.5.0",
          "model_name": "ProgressStyleModel",
          "state": {
            "_model_module": "@jupyter-widgets/controls",
            "_model_module_version": "1.5.0",
            "_model_name": "ProgressStyleModel",
            "_view_count": null,
            "_view_module": "@jupyter-widgets/base",
            "_view_module_version": "1.2.0",
            "_view_name": "StyleView",
            "bar_color": null,
            "description_width": ""
          }
        },
        "3e741a2bce5b461d9f4f135876380206": {
          "model_module": "@jupyter-widgets/controls",
          "model_module_version": "1.5.0",
          "model_name": "HTMLModel",
          "state": {
            "_dom_classes": [],
            "_model_module": "@jupyter-widgets/controls",
            "_model_module_version": "1.5.0",
            "_model_name": "HTMLModel",
            "_view_count": null,
            "_view_module": "@jupyter-widgets/controls",
            "_view_module_version": "1.5.0",
            "_view_name": "HTMLView",
            "description": "",
            "description_tooltip": null,
            "layout": "IPY_MODEL_1db3966f9b7c4813b75c4cc1f4dd3ac9",
            "placeholder": "​",
            "style": "IPY_MODEL_71819b8897084a9f8707ad3d40fd0e53",
            "value": " 3/3 [00:03&lt;00:00,  1.02batch/s]"
          }
        },
        "49db4ab8499d400bb4d41caae08ab37b": {
          "model_module": "@jupyter-widgets/controls",
          "model_module_version": "1.5.0",
          "model_name": "FloatProgressModel",
          "state": {
            "_dom_classes": [],
            "_model_module": "@jupyter-widgets/controls",
            "_model_module_version": "1.5.0",
            "_model_name": "FloatProgressModel",
            "_view_count": null,
            "_view_module": "@jupyter-widgets/controls",
            "_view_module_version": "1.5.0",
            "_view_name": "ProgressView",
            "bar_style": "success",
            "description": "",
            "description_tooltip": null,
            "layout": "IPY_MODEL_9b4d5eab51d040deafe133d95691e448",
            "max": 100,
            "min": 0,
            "orientation": "horizontal",
            "style": "IPY_MODEL_3a3ac57af97f4eb9bfd9cc1091092aa6",
            "value": 100
          }
        },
        "596f30192daa4d8a867309c1ee07921e": {
          "model_module": "@jupyter-widgets/controls",
          "model_module_version": "1.5.0",
          "model_name": "FloatProgressModel",
          "state": {
            "_dom_classes": [],
            "_model_module": "@jupyter-widgets/controls",
            "_model_module_version": "1.5.0",
            "_model_name": "FloatProgressModel",
            "_view_count": null,
            "_view_module": "@jupyter-widgets/controls",
            "_view_module_version": "1.5.0",
            "_view_name": "ProgressView",
            "bar_style": "success",
            "description": "",
            "description_tooltip": null,
            "layout": "IPY_MODEL_7f523aa0742f4328baa9e8464c01c98a",
            "max": 3,
            "min": 0,
            "orientation": "horizontal",
            "style": "IPY_MODEL_3a6521f06d334143879babd620add49c",
            "value": 3
          }
        },
        "63c5f223d6394483bc4f7ad32b822ab6": {
          "model_module": "@jupyter-widgets/controls",
          "model_module_version": "1.5.0",
          "model_name": "DescriptionStyleModel",
          "state": {
            "_model_module": "@jupyter-widgets/controls",
            "_model_module_version": "1.5.0",
            "_model_name": "DescriptionStyleModel",
            "_view_count": null,
            "_view_module": "@jupyter-widgets/base",
            "_view_module_version": "1.2.0",
            "_view_name": "StyleView",
            "description_width": ""
          }
        },
        "71819b8897084a9f8707ad3d40fd0e53": {
          "model_module": "@jupyter-widgets/controls",
          "model_module_version": "1.5.0",
          "model_name": "DescriptionStyleModel",
          "state": {
            "_model_module": "@jupyter-widgets/controls",
            "_model_module_version": "1.5.0",
            "_model_name": "DescriptionStyleModel",
            "_view_count": null,
            "_view_module": "@jupyter-widgets/base",
            "_view_module_version": "1.2.0",
            "_view_name": "StyleView",
            "description_width": ""
          }
        },
        "7f523aa0742f4328baa9e8464c01c98a": {
          "model_module": "@jupyter-widgets/base",
          "model_module_version": "1.2.0",
          "model_name": "LayoutModel",
          "state": {
            "_model_module": "@jupyter-widgets/base",
            "_model_module_version": "1.2.0",
            "_model_name": "LayoutModel",
            "_view_count": null,
            "_view_module": "@jupyter-widgets/base",
            "_view_module_version": "1.2.0",
            "_view_name": "LayoutView",
            "align_content": null,
            "align_items": null,
            "align_self": null,
            "border": null,
            "bottom": null,
            "display": null,
            "flex": null,
            "flex_flow": null,
            "grid_area": null,
            "grid_auto_columns": null,
            "grid_auto_flow": null,
            "grid_auto_rows": null,
            "grid_column": null,
            "grid_gap": null,
            "grid_row": null,
            "grid_template_areas": null,
            "grid_template_columns": null,
            "grid_template_rows": null,
            "height": null,
            "justify_content": null,
            "justify_items": null,
            "left": null,
            "margin": null,
            "max_height": null,
            "max_width": null,
            "min_height": null,
            "min_width": null,
            "object_fit": null,
            "object_position": null,
            "order": null,
            "overflow": null,
            "overflow_x": null,
            "overflow_y": null,
            "padding": null,
            "right": null,
            "top": null,
            "visibility": null,
            "width": null
          }
        },
        "860fbeee0fbe486c82f4380679b6cb04": {
          "model_module": "@jupyter-widgets/base",
          "model_module_version": "1.2.0",
          "model_name": "LayoutModel",
          "state": {
            "_model_module": "@jupyter-widgets/base",
            "_model_module_version": "1.2.0",
            "_model_name": "LayoutModel",
            "_view_count": null,
            "_view_module": "@jupyter-widgets/base",
            "_view_module_version": "1.2.0",
            "_view_name": "LayoutView",
            "align_content": null,
            "align_items": null,
            "align_self": null,
            "border": null,
            "bottom": null,
            "display": null,
            "flex": null,
            "flex_flow": null,
            "grid_area": null,
            "grid_auto_columns": null,
            "grid_auto_flow": null,
            "grid_auto_rows": null,
            "grid_column": null,
            "grid_gap": null,
            "grid_row": null,
            "grid_template_areas": null,
            "grid_template_columns": null,
            "grid_template_rows": null,
            "height": null,
            "justify_content": null,
            "justify_items": null,
            "left": null,
            "margin": null,
            "max_height": null,
            "max_width": null,
            "min_height": null,
            "min_width": null,
            "object_fit": null,
            "object_position": null,
            "order": null,
            "overflow": null,
            "overflow_x": null,
            "overflow_y": null,
            "padding": null,
            "right": null,
            "top": null,
            "visibility": null,
            "width": null
          }
        },
        "99538ba497c54cc2945e3137d05c7e3f": {
          "model_module": "@jupyter-widgets/controls",
          "model_module_version": "1.5.0",
          "model_name": "HTMLModel",
          "state": {
            "_dom_classes": [],
            "_model_module": "@jupyter-widgets/controls",
            "_model_module_version": "1.5.0",
            "_model_name": "HTMLModel",
            "_view_count": null,
            "_view_module": "@jupyter-widgets/controls",
            "_view_module_version": "1.5.0",
            "_view_name": "HTMLView",
            "description": "",
            "description_tooltip": null,
            "layout": "IPY_MODEL_1b619b6b84b34858bf28e4b0cefe4fe8",
            "placeholder": "​",
            "style": "IPY_MODEL_a263c1eddca544dc8e7b99cf633f009c",
            "value": "Predicting embeddings: 100%"
          }
        },
        "9b4d5eab51d040deafe133d95691e448": {
          "model_module": "@jupyter-widgets/base",
          "model_module_version": "1.2.0",
          "model_name": "LayoutModel",
          "state": {
            "_model_module": "@jupyter-widgets/base",
            "_model_module_version": "1.2.0",
            "_model_name": "LayoutModel",
            "_view_count": null,
            "_view_module": "@jupyter-widgets/base",
            "_view_module_version": "1.2.0",
            "_view_name": "LayoutView",
            "align_content": null,
            "align_items": null,
            "align_self": null,
            "border": null,
            "bottom": null,
            "display": null,
            "flex": null,
            "flex_flow": null,
            "grid_area": null,
            "grid_auto_columns": null,
            "grid_auto_flow": null,
            "grid_auto_rows": null,
            "grid_column": null,
            "grid_gap": null,
            "grid_row": null,
            "grid_template_areas": null,
            "grid_template_columns": null,
            "grid_template_rows": null,
            "height": null,
            "justify_content": null,
            "justify_items": null,
            "left": null,
            "margin": null,
            "max_height": null,
            "max_width": null,
            "min_height": null,
            "min_width": null,
            "object_fit": null,
            "object_position": null,
            "order": null,
            "overflow": null,
            "overflow_x": null,
            "overflow_y": null,
            "padding": null,
            "right": null,
            "top": null,
            "visibility": null,
            "width": null
          }
        },
        "a263c1eddca544dc8e7b99cf633f009c": {
          "model_module": "@jupyter-widgets/controls",
          "model_module_version": "1.5.0",
          "model_name": "DescriptionStyleModel",
          "state": {
            "_model_module": "@jupyter-widgets/controls",
            "_model_module_version": "1.5.0",
            "_model_name": "DescriptionStyleModel",
            "_view_count": null,
            "_view_module": "@jupyter-widgets/base",
            "_view_module_version": "1.2.0",
            "_view_name": "StyleView",
            "description_width": ""
          }
        },
        "a5f4b605d33d46b6883a05b237961104": {
          "model_module": "@jupyter-widgets/controls",
          "model_module_version": "1.5.0",
          "model_name": "HTMLModel",
          "state": {
            "_dom_classes": [],
            "_model_module": "@jupyter-widgets/controls",
            "_model_module_version": "1.5.0",
            "_model_name": "HTMLModel",
            "_view_count": null,
            "_view_module": "@jupyter-widgets/controls",
            "_view_module_version": "1.5.0",
            "_view_name": "HTMLView",
            "description": "",
            "description_tooltip": null,
            "layout": "IPY_MODEL_decbe69058ab40f5bd0d2e7950e51a92",
            "placeholder": "​",
            "style": "IPY_MODEL_63c5f223d6394483bc4f7ad32b822ab6",
            "value": "100%"
          }
        },
        "b39035d87c3e415880699e5a8f4f6f6a": {
          "model_module": "@jupyter-widgets/controls",
          "model_module_version": "1.5.0",
          "model_name": "DescriptionStyleModel",
          "state": {
            "_model_module": "@jupyter-widgets/controls",
            "_model_module_version": "1.5.0",
            "_model_name": "DescriptionStyleModel",
            "_view_count": null,
            "_view_module": "@jupyter-widgets/base",
            "_view_module_version": "1.2.0",
            "_view_name": "StyleView",
            "description_width": ""
          }
        },
        "c9f9616f0363444681ef1f7eed5cda69": {
          "model_module": "@jupyter-widgets/base",
          "model_module_version": "1.2.0",
          "model_name": "LayoutModel",
          "state": {
            "_model_module": "@jupyter-widgets/base",
            "_model_module_version": "1.2.0",
            "_model_name": "LayoutModel",
            "_view_count": null,
            "_view_module": "@jupyter-widgets/base",
            "_view_module_version": "1.2.0",
            "_view_name": "LayoutView",
            "align_content": null,
            "align_items": null,
            "align_self": null,
            "border": null,
            "bottom": null,
            "display": null,
            "flex": null,
            "flex_flow": null,
            "grid_area": null,
            "grid_auto_columns": null,
            "grid_auto_flow": null,
            "grid_auto_rows": null,
            "grid_column": null,
            "grid_gap": null,
            "grid_row": null,
            "grid_template_areas": null,
            "grid_template_columns": null,
            "grid_template_rows": null,
            "height": null,
            "justify_content": null,
            "justify_items": null,
            "left": null,
            "margin": null,
            "max_height": null,
            "max_width": null,
            "min_height": null,
            "min_width": null,
            "object_fit": null,
            "object_position": null,
            "order": null,
            "overflow": null,
            "overflow_x": null,
            "overflow_y": null,
            "padding": null,
            "right": null,
            "top": null,
            "visibility": null,
            "width": null
          }
        },
        "decbe69058ab40f5bd0d2e7950e51a92": {
          "model_module": "@jupyter-widgets/base",
          "model_module_version": "1.2.0",
          "model_name": "LayoutModel",
          "state": {
            "_model_module": "@jupyter-widgets/base",
            "_model_module_version": "1.2.0",
            "_model_name": "LayoutModel",
            "_view_count": null,
            "_view_module": "@jupyter-widgets/base",
            "_view_module_version": "1.2.0",
            "_view_name": "LayoutView",
            "align_content": null,
            "align_items": null,
            "align_self": null,
            "border": null,
            "bottom": null,
            "display": null,
            "flex": null,
            "flex_flow": null,
            "grid_area": null,
            "grid_auto_columns": null,
            "grid_auto_flow": null,
            "grid_auto_rows": null,
            "grid_column": null,
            "grid_gap": null,
            "grid_row": null,
            "grid_template_areas": null,
            "grid_template_columns": null,
            "grid_template_rows": null,
            "height": null,
            "justify_content": null,
            "justify_items": null,
            "left": null,
            "margin": null,
            "max_height": null,
            "max_width": null,
            "min_height": null,
            "min_width": null,
            "object_fit": null,
            "object_position": null,
            "order": null,
            "overflow": null,
            "overflow_x": null,
            "overflow_y": null,
            "padding": null,
            "right": null,
            "top": null,
            "visibility": null,
            "width": null
          }
        },
        "e790e7ea027d46cab2697ba4a413dbf7": {
          "model_module": "@jupyter-widgets/base",
          "model_module_version": "1.2.0",
          "model_name": "LayoutModel",
          "state": {
            "_model_module": "@jupyter-widgets/base",
            "_model_module_version": "1.2.0",
            "_model_name": "LayoutModel",
            "_view_count": null,
            "_view_module": "@jupyter-widgets/base",
            "_view_module_version": "1.2.0",
            "_view_name": "LayoutView",
            "align_content": null,
            "align_items": null,
            "align_self": null,
            "border": null,
            "bottom": null,
            "display": null,
            "flex": null,
            "flex_flow": null,
            "grid_area": null,
            "grid_auto_columns": null,
            "grid_auto_flow": null,
            "grid_auto_rows": null,
            "grid_column": null,
            "grid_gap": null,
            "grid_row": null,
            "grid_template_areas": null,
            "grid_template_columns": null,
            "grid_template_rows": null,
            "height": null,
            "justify_content": null,
            "justify_items": null,
            "left": null,
            "margin": null,
            "max_height": null,
            "max_width": null,
            "min_height": null,
            "min_width": null,
            "object_fit": null,
            "object_position": null,
            "order": null,
            "overflow": null,
            "overflow_x": null,
            "overflow_y": null,
            "padding": null,
            "right": null,
            "top": null,
            "visibility": null,
            "width": null
          }
        },
        "ee31329811e547aaa27f5cfa4727f318": {
          "model_module": "@jupyter-widgets/controls",
          "model_module_version": "1.5.0",
          "model_name": "HTMLModel",
          "state": {
            "_dom_classes": [],
            "_model_module": "@jupyter-widgets/controls",
            "_model_module_version": "1.5.0",
            "_model_name": "HTMLModel",
            "_view_count": null,
            "_view_module": "@jupyter-widgets/controls",
            "_view_module_version": "1.5.0",
            "_view_name": "HTMLView",
            "description": "",
            "description_tooltip": null,
            "layout": "IPY_MODEL_c9f9616f0363444681ef1f7eed5cda69",
            "placeholder": "​",
            "style": "IPY_MODEL_b39035d87c3e415880699e5a8f4f6f6a",
            "value": " 100/100 [00:00&lt;00:00, 156.26it/s, accuracy=0.959]"
          }
        }
      }
    }
  },
  "nbformat": 4,
  "nbformat_minor": 0
}
