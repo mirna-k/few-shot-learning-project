{
  "cells": [
    {
      "cell_type": "code",
      "execution_count": null,
      "metadata": {},
      "outputs": [],
      "source": [
        "from google.colab import drive\n",
        "drive.mount('/content/drive/')"
      ]
    },
    {
      "cell_type": "code",
      "execution_count": null,
      "metadata": {},
      "outputs": [],
      "source": [
        "!git clone https://github.com/mirna-k/few-shot-learning-project.git\n",
        "%cd few-shot-learning-project/"
      ]
    },
    {
      "cell_type": "code",
      "execution_count": null,
      "metadata": {
        "colab": {
          "base_uri": "https://localhost:8080/"
        },
        "id": "VUL0SG1cZcVH",
        "outputId": "f6130be5-8d4b-4d69-ac1f-83230a656cec"
      },
      "outputs": [],
      "source": [
        "import os\n",
        "import torch\n",
        "import torch.nn as nn\n",
        "import torch.utils.data as data\n",
        "import torch.optim as optim\n",
        "import torchvision.transforms as transforms\n",
        "from torchvision import models\n",
        "import matplotlib.pyplot as plt\n",
        "\n",
        "from tqdm.notebook import tqdm\n",
        "\n",
        "device = torch.device(\"cuda\") if torch.cuda.is_available() else torch.device(\"cpu\")\n",
        "print(\"Device\", device)\n",
        "\n",
        "from easyFSL_helper import *\n",
        "from dataset_helper import *\n",
        "\n",
        "from torch.utils.tensorboard import SummaryWriter"
      ]
    },
    {
      "cell_type": "code",
      "execution_count": 9,
      "metadata": {},
      "outputs": [],
      "source": [
        "train_transform = transforms.Compose([\n",
        "    transforms.Resize((180, 180)),\n",
        "    transforms.RandomHorizontalFlip(p=0.5),\n",
        "    transforms.RandomRotation(30),\n",
        "    transforms.ToTensor(),\n",
        "    transforms.Normalize(mean=[0.485, 0.456, 0.406], std=[0.229, 0.224, 0.225])\n",
        "])\n",
        "\n",
        "val_transform = transforms.Compose([\n",
        "    transforms.Resize((180, 180)),\n",
        "    transforms.ToTensor(),\n",
        "    transforms.Normalize(mean=[0.485, 0.456, 0.406], std=[0.229, 0.224, 0.225])\n",
        "])"
      ]
    },
    {
      "cell_type": "code",
      "execution_count": 4,
      "metadata": {
        "colab": {
          "base_uri": "https://localhost:8080/",
          "height": 407
        },
        "id": "z_UCO1zqZk65",
        "outputId": "7573fc85-0be1-44e8-956b-36056dfb948e"
      },
      "outputs": [
        {
          "name": "stdout",
          "output_type": "stream",
          "text": [
            "Train: 8245\n",
            "Valid: 1780\n"
          ]
        }
      ],
      "source": [
        "batch_size = 64\n",
        "path = 'archive\\CUB_200_2011'\n",
        "\n",
        "N = 5\n",
        "K = 5\n",
        "n_query = 10\n",
        "n_tasks_per_epoch = 100\n",
        "n_validation_tasks = 50\n",
        "\n",
        "train_set = CUB(split=\"train\", training=True)\n",
        "val_set = CUB(split=\"val\", training=False)\n",
        "\n",
        "print(\"Train: {}\".format(len(train_set)))\n",
        "print(\"Valid: {}\".format(len(val_set)))"
      ]
    },
    {
      "cell_type": "code",
      "execution_count": 5,
      "metadata": {},
      "outputs": [],
      "source": [
        "train_sampler = TaskSampler(train_set, n_way=N, n_shot=K, n_query=n_query, n_tasks=n_tasks_per_epoch)\n",
        "val_sampler = TaskSampler(val_set, n_way=N, n_shot=K, n_query=n_query, n_tasks=n_validation_tasks)\n",
        "\n",
        "train_loader = data.DataLoader(\n",
        "    train_set,\n",
        "    batch_sampler=train_sampler,\n",
        "    pin_memory=True,\n",
        "    collate_fn=train_sampler.episodic_collate_fn,\n",
        ")\n",
        "val_loader = data.DataLoader(\n",
        "    val_set,\n",
        "    batch_sampler=val_sampler,\n",
        "    pin_memory=True,\n",
        "    collate_fn=val_sampler.episodic_collate_fn,\n",
        ")"
      ]
    },
    {
      "cell_type": "code",
      "execution_count": 19,
      "metadata": {},
      "outputs": [],
      "source": [
        "resnet = models.resnet34()\n",
        "few_shot_classifier = PrototypicalNetworks(resnet).to(device)"
      ]
    },
    {
      "cell_type": "code",
      "execution_count": 14,
      "metadata": {},
      "outputs": [],
      "source": [
        "loss_module = nn.CrossEntropyLoss()\n",
        "optimizer = optim.Adam(few_shot_classifier.parameters(), lr=0.001, weight_decay=1e-5)\n",
        "scheduler = torch.optim.lr_scheduler.ReduceLROnPlateau(optimizer, mode='min', factor=0.1, patience=5)"
      ]
    },
    {
      "cell_type": "code",
      "execution_count": 7,
      "metadata": {},
      "outputs": [],
      "source": [
        "import copy\n",
        "def train_model(model, optimizer, scheduler, train_data_loader, loss_module, num_epochs=100, logging_dir='runs/our_experiment'):\n",
        "    model_dir = logging_dir.split('/')[-1]\n",
        "    os.makedirs(logging_dir, exist_ok=True)\n",
        "    os.makedirs(f'models/{model_dir}', exist_ok=True)\n",
        "    writer = SummaryWriter(logging_dir)\n",
        "\n",
        "    best_validation_accuracy = 0.0\n",
        "\n",
        "    for epoch in range(num_epochs):\n",
        "        model.train()\n",
        "        epoch_loss = 0.0\n",
        "        for support_images, support_labels, query_images, query_labels, _ in tqdm(train_data_loader, 'Epoch %d'%(epoch + 1)):\n",
        "\n",
        "            model.process_support_set(support_images.to(device), support_labels.to(device))\n",
        "            classification_scores = model(query_images.to(device))\n",
        "\n",
        "            loss = loss_module(classification_scores, query_labels.to(device))\n",
        "\n",
        "            optimizer.zero_grad()\n",
        "            loss.backward()\n",
        "\n",
        "            optimizer.step()\n",
        "            epoch_loss += loss.item() * len(support_images)\n",
        "\n",
        "        epoch_loss /= len(train_data_loader.dataset)\n",
        "\n",
        "        # Calling scheduler\n",
        "        scheduler.step(epoch_loss)\n",
        "\n",
        "        validation_accuracy, val_loss, _, _, f1= evaluate(model, loss_module, val_loader, device=device, tqdm_prefix=\"Validation\")\n",
        "\n",
        "        if validation_accuracy > best_validation_accuracy:\n",
        "            best_validation_accuracy = validation_accuracy\n",
        "            best_state = copy.deepcopy(model.state_dict())\n",
        "            torch.save(model.state_dict(), f'models/{model_dir}/model{epoch + 1}.pt')\n",
        "            print(\"Found a new best model.\")\n",
        "\n",
        "        writer.add_scalars('loss', {'train': epoch_loss,\n",
        "                                    'val': val_loss}, epoch + 1)\n",
        "\n",
        "        writer.add_scalar(\"Val_acc\", validation_accuracy, epoch + 1)\n",
        "        writer.add_scalar(\"F1\", f1, epoch + 1)\n",
        "\n",
        "    writer.close()"
      ]
    },
    {
      "cell_type": "code",
      "execution_count": 10,
      "metadata": {},
      "outputs": [
        {
          "data": {
            "application/vnd.jupyter.widget-view+json": {
              "model_id": "8fcfc1cc562d44c8a37102ce7ea011db",
              "version_major": 2,
              "version_minor": 0
            },
            "text/plain": [
              "Epoch 1:   0%|          | 0/100 [00:00<?, ?it/s]"
            ]
          },
          "metadata": {},
          "output_type": "display_data"
        },
        {
          "data": {
            "application/vnd.jupyter.widget-view+json": {
              "model_id": "92e802de4c9a44319fe3637eeff4f193",
              "version_major": 2,
              "version_minor": 0
            },
            "text/plain": [
              "Validation:   0%|          | 0/50 [00:00<?, ?it/s]"
            ]
          },
          "metadata": {},
          "output_type": "display_data"
        },
        {
          "name": "stdout",
          "output_type": "stream",
          "text": [
            "Found a new best model.\n"
          ]
        },
        {
          "data": {
            "application/vnd.jupyter.widget-view+json": {
              "model_id": "a572cda4c5e64595a86c997bf0309675",
              "version_major": 2,
              "version_minor": 0
            },
            "text/plain": [
              "Epoch 2:   0%|          | 0/100 [00:00<?, ?it/s]"
            ]
          },
          "metadata": {},
          "output_type": "display_data"
        },
        {
          "data": {
            "application/vnd.jupyter.widget-view+json": {
              "model_id": "2db15e1497ed4768974e0c4ad5c73e02",
              "version_major": 2,
              "version_minor": 0
            },
            "text/plain": [
              "Validation:   0%|          | 0/50 [00:00<?, ?it/s]"
            ]
          },
          "metadata": {},
          "output_type": "display_data"
        },
        {
          "data": {
            "application/vnd.jupyter.widget-view+json": {
              "model_id": "3e98e6873de04e49b6026d6d297b368e",
              "version_major": 2,
              "version_minor": 0
            },
            "text/plain": [
              "Epoch 3:   0%|          | 0/100 [00:00<?, ?it/s]"
            ]
          },
          "metadata": {},
          "output_type": "display_data"
        },
        {
          "data": {
            "application/vnd.jupyter.widget-view+json": {
              "model_id": "c0a86e9705be4eb6bb3e4d604cfd840d",
              "version_major": 2,
              "version_minor": 0
            },
            "text/plain": [
              "Validation:   0%|          | 0/50 [00:00<?, ?it/s]"
            ]
          },
          "metadata": {},
          "output_type": "display_data"
        },
        {
          "data": {
            "application/vnd.jupyter.widget-view+json": {
              "model_id": "fa82011ef7ff41fd8275f965eed8486a",
              "version_major": 2,
              "version_minor": 0
            },
            "text/plain": [
              "Epoch 4:   0%|          | 0/100 [00:00<?, ?it/s]"
            ]
          },
          "metadata": {},
          "output_type": "display_data"
        },
        {
          "data": {
            "application/vnd.jupyter.widget-view+json": {
              "model_id": "7a1c5ee8060f4a59994895e9d19427a1",
              "version_major": 2,
              "version_minor": 0
            },
            "text/plain": [
              "Validation:   0%|          | 0/50 [00:00<?, ?it/s]"
            ]
          },
          "metadata": {},
          "output_type": "display_data"
        },
        {
          "name": "stdout",
          "output_type": "stream",
          "text": [
            "Found a new best model.\n"
          ]
        },
        {
          "data": {
            "application/vnd.jupyter.widget-view+json": {
              "model_id": "f03466d8bf2642adb09657460cc827f9",
              "version_major": 2,
              "version_minor": 0
            },
            "text/plain": [
              "Epoch 5:   0%|          | 0/100 [00:00<?, ?it/s]"
            ]
          },
          "metadata": {},
          "output_type": "display_data"
        },
        {
          "data": {
            "application/vnd.jupyter.widget-view+json": {
              "model_id": "1ccb8f181e754b3f87a4fbd5e1f3b9c5",
              "version_major": 2,
              "version_minor": 0
            },
            "text/plain": [
              "Validation:   0%|          | 0/50 [00:00<?, ?it/s]"
            ]
          },
          "metadata": {},
          "output_type": "display_data"
        },
        {
          "name": "stdout",
          "output_type": "stream",
          "text": [
            "Found a new best model.\n"
          ]
        },
        {
          "data": {
            "application/vnd.jupyter.widget-view+json": {
              "model_id": "3259e386c0834b43be0ac434db9ae210",
              "version_major": 2,
              "version_minor": 0
            },
            "text/plain": [
              "Epoch 6:   0%|          | 0/100 [00:00<?, ?it/s]"
            ]
          },
          "metadata": {},
          "output_type": "display_data"
        },
        {
          "data": {
            "application/vnd.jupyter.widget-view+json": {
              "model_id": "8a5fa9f0614c4437b9602a26ec74967f",
              "version_major": 2,
              "version_minor": 0
            },
            "text/plain": [
              "Validation:   0%|          | 0/50 [00:00<?, ?it/s]"
            ]
          },
          "metadata": {},
          "output_type": "display_data"
        },
        {
          "name": "stdout",
          "output_type": "stream",
          "text": [
            "Found a new best model.\n"
          ]
        },
        {
          "data": {
            "application/vnd.jupyter.widget-view+json": {
              "model_id": "1e9721cd15b84ad39029f4c9a7a4bef2",
              "version_major": 2,
              "version_minor": 0
            },
            "text/plain": [
              "Epoch 7:   0%|          | 0/100 [00:00<?, ?it/s]"
            ]
          },
          "metadata": {},
          "output_type": "display_data"
        },
        {
          "data": {
            "application/vnd.jupyter.widget-view+json": {
              "model_id": "a7f993b7c5e44fd897a837ad781f63cb",
              "version_major": 2,
              "version_minor": 0
            },
            "text/plain": [
              "Validation:   0%|          | 0/50 [00:00<?, ?it/s]"
            ]
          },
          "metadata": {},
          "output_type": "display_data"
        },
        {
          "name": "stdout",
          "output_type": "stream",
          "text": [
            "Found a new best model.\n"
          ]
        },
        {
          "data": {
            "application/vnd.jupyter.widget-view+json": {
              "model_id": "47346b367f464091b54d5311e1578a3a",
              "version_major": 2,
              "version_minor": 0
            },
            "text/plain": [
              "Epoch 8:   0%|          | 0/100 [00:00<?, ?it/s]"
            ]
          },
          "metadata": {},
          "output_type": "display_data"
        },
        {
          "data": {
            "application/vnd.jupyter.widget-view+json": {
              "model_id": "69d30ea9e58a4febb4936313088e6d00",
              "version_major": 2,
              "version_minor": 0
            },
            "text/plain": [
              "Validation:   0%|          | 0/50 [00:00<?, ?it/s]"
            ]
          },
          "metadata": {},
          "output_type": "display_data"
        },
        {
          "data": {
            "application/vnd.jupyter.widget-view+json": {
              "model_id": "071ae65602504c309f308699029dd664",
              "version_major": 2,
              "version_minor": 0
            },
            "text/plain": [
              "Epoch 9:   0%|          | 0/100 [00:00<?, ?it/s]"
            ]
          },
          "metadata": {},
          "output_type": "display_data"
        },
        {
          "data": {
            "application/vnd.jupyter.widget-view+json": {
              "model_id": "7266c0eb770742dc914d87e6f7bfb05e",
              "version_major": 2,
              "version_minor": 0
            },
            "text/plain": [
              "Validation:   0%|          | 0/50 [00:00<?, ?it/s]"
            ]
          },
          "metadata": {},
          "output_type": "display_data"
        },
        {
          "data": {
            "application/vnd.jupyter.widget-view+json": {
              "model_id": "ce704cfe26524989848caba60e45b5af",
              "version_major": 2,
              "version_minor": 0
            },
            "text/plain": [
              "Epoch 10:   0%|          | 0/100 [00:00<?, ?it/s]"
            ]
          },
          "metadata": {},
          "output_type": "display_data"
        },
        {
          "data": {
            "application/vnd.jupyter.widget-view+json": {
              "model_id": "6b3a7f46eef840a5b42523dcaf22f76c",
              "version_major": 2,
              "version_minor": 0
            },
            "text/plain": [
              "Validation:   0%|          | 0/50 [00:00<?, ?it/s]"
            ]
          },
          "metadata": {},
          "output_type": "display_data"
        },
        {
          "data": {
            "application/vnd.jupyter.widget-view+json": {
              "model_id": "e956bce83a4c4f129e75ed82edbc0dcf",
              "version_major": 2,
              "version_minor": 0
            },
            "text/plain": [
              "Epoch 11:   0%|          | 0/100 [00:00<?, ?it/s]"
            ]
          },
          "metadata": {},
          "output_type": "display_data"
        },
        {
          "data": {
            "application/vnd.jupyter.widget-view+json": {
              "model_id": "94855a4f68d7482dbfe002d89412275e",
              "version_major": 2,
              "version_minor": 0
            },
            "text/plain": [
              "Validation:   0%|          | 0/50 [00:00<?, ?it/s]"
            ]
          },
          "metadata": {},
          "output_type": "display_data"
        },
        {
          "data": {
            "application/vnd.jupyter.widget-view+json": {
              "model_id": "b3e110ac89e24210b163ed4838776b87",
              "version_major": 2,
              "version_minor": 0
            },
            "text/plain": [
              "Epoch 12:   0%|          | 0/100 [00:00<?, ?it/s]"
            ]
          },
          "metadata": {},
          "output_type": "display_data"
        },
        {
          "data": {
            "application/vnd.jupyter.widget-view+json": {
              "model_id": "66798bf9bcfe4f99946d49f6deea54c7",
              "version_major": 2,
              "version_minor": 0
            },
            "text/plain": [
              "Validation:   0%|          | 0/50 [00:00<?, ?it/s]"
            ]
          },
          "metadata": {},
          "output_type": "display_data"
        },
        {
          "data": {
            "application/vnd.jupyter.widget-view+json": {
              "model_id": "16bd1a6e22eb4ee0bf0682b4198a2d59",
              "version_major": 2,
              "version_minor": 0
            },
            "text/plain": [
              "Epoch 13:   0%|          | 0/100 [00:00<?, ?it/s]"
            ]
          },
          "metadata": {},
          "output_type": "display_data"
        },
        {
          "data": {
            "application/vnd.jupyter.widget-view+json": {
              "model_id": "0f233fc293c5476bbbdd2a9886a1d9a0",
              "version_major": 2,
              "version_minor": 0
            },
            "text/plain": [
              "Validation:   0%|          | 0/50 [00:00<?, ?it/s]"
            ]
          },
          "metadata": {},
          "output_type": "display_data"
        },
        {
          "name": "stdout",
          "output_type": "stream",
          "text": [
            "Found a new best model.\n"
          ]
        },
        {
          "data": {
            "application/vnd.jupyter.widget-view+json": {
              "model_id": "6e9b70e7d6ce42bc88122d4495a72f4d",
              "version_major": 2,
              "version_minor": 0
            },
            "text/plain": [
              "Epoch 14:   0%|          | 0/100 [00:00<?, ?it/s]"
            ]
          },
          "metadata": {},
          "output_type": "display_data"
        },
        {
          "data": {
            "application/vnd.jupyter.widget-view+json": {
              "model_id": "7e6c6619ddb447bf8e83f5e5d7b6b639",
              "version_major": 2,
              "version_minor": 0
            },
            "text/plain": [
              "Validation:   0%|          | 0/50 [00:00<?, ?it/s]"
            ]
          },
          "metadata": {},
          "output_type": "display_data"
        },
        {
          "name": "stdout",
          "output_type": "stream",
          "text": [
            "Found a new best model.\n"
          ]
        },
        {
          "data": {
            "application/vnd.jupyter.widget-view+json": {
              "model_id": "dd0ef70d1787424c9677534b8b26117e",
              "version_major": 2,
              "version_minor": 0
            },
            "text/plain": [
              "Epoch 15:   0%|          | 0/100 [00:00<?, ?it/s]"
            ]
          },
          "metadata": {},
          "output_type": "display_data"
        },
        {
          "data": {
            "application/vnd.jupyter.widget-view+json": {
              "model_id": "defe94a46566487e8ae6206b20c25b2d",
              "version_major": 2,
              "version_minor": 0
            },
            "text/plain": [
              "Validation:   0%|          | 0/50 [00:00<?, ?it/s]"
            ]
          },
          "metadata": {},
          "output_type": "display_data"
        },
        {
          "data": {
            "application/vnd.jupyter.widget-view+json": {
              "model_id": "62cc44680e1641a3a677a7ed0b41ce05",
              "version_major": 2,
              "version_minor": 0
            },
            "text/plain": [
              "Epoch 16:   0%|          | 0/100 [00:00<?, ?it/s]"
            ]
          },
          "metadata": {},
          "output_type": "display_data"
        },
        {
          "data": {
            "application/vnd.jupyter.widget-view+json": {
              "model_id": "4fceece4fd3e41d9bf8ffbfb0391aea9",
              "version_major": 2,
              "version_minor": 0
            },
            "text/plain": [
              "Validation:   0%|          | 0/50 [00:00<?, ?it/s]"
            ]
          },
          "metadata": {},
          "output_type": "display_data"
        },
        {
          "data": {
            "application/vnd.jupyter.widget-view+json": {
              "model_id": "41f8152355984a088308bec9d2690f22",
              "version_major": 2,
              "version_minor": 0
            },
            "text/plain": [
              "Epoch 17:   0%|          | 0/100 [00:00<?, ?it/s]"
            ]
          },
          "metadata": {},
          "output_type": "display_data"
        },
        {
          "data": {
            "application/vnd.jupyter.widget-view+json": {
              "model_id": "42b378d828654587b5e851625032f0ed",
              "version_major": 2,
              "version_minor": 0
            },
            "text/plain": [
              "Validation:   0%|          | 0/50 [00:00<?, ?it/s]"
            ]
          },
          "metadata": {},
          "output_type": "display_data"
        },
        {
          "data": {
            "application/vnd.jupyter.widget-view+json": {
              "model_id": "f5eb3f372f514f088a1810f83c5a9b4d",
              "version_major": 2,
              "version_minor": 0
            },
            "text/plain": [
              "Epoch 18:   0%|          | 0/100 [00:00<?, ?it/s]"
            ]
          },
          "metadata": {},
          "output_type": "display_data"
        },
        {
          "data": {
            "application/vnd.jupyter.widget-view+json": {
              "model_id": "d6c20b6c0e8a4dcea1e2d27c0c655488",
              "version_major": 2,
              "version_minor": 0
            },
            "text/plain": [
              "Validation:   0%|          | 0/50 [00:00<?, ?it/s]"
            ]
          },
          "metadata": {},
          "output_type": "display_data"
        },
        {
          "name": "stdout",
          "output_type": "stream",
          "text": [
            "Found a new best model.\n"
          ]
        },
        {
          "data": {
            "application/vnd.jupyter.widget-view+json": {
              "model_id": "8a52f40ffa894877ad6e92bf376d132f",
              "version_major": 2,
              "version_minor": 0
            },
            "text/plain": [
              "Epoch 19:   0%|          | 0/100 [00:00<?, ?it/s]"
            ]
          },
          "metadata": {},
          "output_type": "display_data"
        },
        {
          "data": {
            "application/vnd.jupyter.widget-view+json": {
              "model_id": "639c8aabea2c45ea919963d34cd039a2",
              "version_major": 2,
              "version_minor": 0
            },
            "text/plain": [
              "Validation:   0%|          | 0/50 [00:00<?, ?it/s]"
            ]
          },
          "metadata": {},
          "output_type": "display_data"
        },
        {
          "data": {
            "application/vnd.jupyter.widget-view+json": {
              "model_id": "99d5e68f6aed405998ef83757b2fc99c",
              "version_major": 2,
              "version_minor": 0
            },
            "text/plain": [
              "Epoch 20:   0%|          | 0/100 [00:00<?, ?it/s]"
            ]
          },
          "metadata": {},
          "output_type": "display_data"
        },
        {
          "data": {
            "application/vnd.jupyter.widget-view+json": {
              "model_id": "c5bfeb6b41c245cdadccfefe49861fa8",
              "version_major": 2,
              "version_minor": 0
            },
            "text/plain": [
              "Validation:   0%|          | 0/50 [00:00<?, ?it/s]"
            ]
          },
          "metadata": {},
          "output_type": "display_data"
        },
        {
          "data": {
            "application/vnd.jupyter.widget-view+json": {
              "model_id": "48f536a8fc784f668b86a5a1f0e5b961",
              "version_major": 2,
              "version_minor": 0
            },
            "text/plain": [
              "Epoch 21:   0%|          | 0/100 [00:00<?, ?it/s]"
            ]
          },
          "metadata": {},
          "output_type": "display_data"
        },
        {
          "data": {
            "application/vnd.jupyter.widget-view+json": {
              "model_id": "632696393fa64f228fa43df9384aac06",
              "version_major": 2,
              "version_minor": 0
            },
            "text/plain": [
              "Validation:   0%|          | 0/50 [00:00<?, ?it/s]"
            ]
          },
          "metadata": {},
          "output_type": "display_data"
        },
        {
          "data": {
            "application/vnd.jupyter.widget-view+json": {
              "model_id": "7e5b0fda55d34888abe17971e2ba84b8",
              "version_major": 2,
              "version_minor": 0
            },
            "text/plain": [
              "Epoch 22:   0%|          | 0/100 [00:00<?, ?it/s]"
            ]
          },
          "metadata": {},
          "output_type": "display_data"
        },
        {
          "data": {
            "application/vnd.jupyter.widget-view+json": {
              "model_id": "aa988ed4f0804b7789af7c66dd582c1a",
              "version_major": 2,
              "version_minor": 0
            },
            "text/plain": [
              "Validation:   0%|          | 0/50 [00:00<?, ?it/s]"
            ]
          },
          "metadata": {},
          "output_type": "display_data"
        },
        {
          "data": {
            "application/vnd.jupyter.widget-view+json": {
              "model_id": "cd0048adef10459a8d269456305fce69",
              "version_major": 2,
              "version_minor": 0
            },
            "text/plain": [
              "Epoch 23:   0%|          | 0/100 [00:00<?, ?it/s]"
            ]
          },
          "metadata": {},
          "output_type": "display_data"
        },
        {
          "data": {
            "application/vnd.jupyter.widget-view+json": {
              "model_id": "30a2cd858aeb4a0b8957389aacc99d62",
              "version_major": 2,
              "version_minor": 0
            },
            "text/plain": [
              "Validation:   0%|          | 0/50 [00:00<?, ?it/s]"
            ]
          },
          "metadata": {},
          "output_type": "display_data"
        },
        {
          "name": "stdout",
          "output_type": "stream",
          "text": [
            "Found a new best model.\n"
          ]
        },
        {
          "data": {
            "application/vnd.jupyter.widget-view+json": {
              "model_id": "30c4f63a754746f683424eff56315e35",
              "version_major": 2,
              "version_minor": 0
            },
            "text/plain": [
              "Epoch 24:   0%|          | 0/100 [00:00<?, ?it/s]"
            ]
          },
          "metadata": {},
          "output_type": "display_data"
        },
        {
          "data": {
            "application/vnd.jupyter.widget-view+json": {
              "model_id": "432e95cc635440e7acdbf8cbbfc1e0e0",
              "version_major": 2,
              "version_minor": 0
            },
            "text/plain": [
              "Validation:   0%|          | 0/50 [00:00<?, ?it/s]"
            ]
          },
          "metadata": {},
          "output_type": "display_data"
        },
        {
          "data": {
            "application/vnd.jupyter.widget-view+json": {
              "model_id": "859d3116bcd24c36a968f62e10d3cd67",
              "version_major": 2,
              "version_minor": 0
            },
            "text/plain": [
              "Epoch 25:   0%|          | 0/100 [00:00<?, ?it/s]"
            ]
          },
          "metadata": {},
          "output_type": "display_data"
        },
        {
          "data": {
            "application/vnd.jupyter.widget-view+json": {
              "model_id": "0fe3dde99ea0467486465059633bad12",
              "version_major": 2,
              "version_minor": 0
            },
            "text/plain": [
              "Validation:   0%|          | 0/50 [00:00<?, ?it/s]"
            ]
          },
          "metadata": {},
          "output_type": "display_data"
        },
        {
          "data": {
            "application/vnd.jupyter.widget-view+json": {
              "model_id": "0498855f2e6e4613824af7743ad35e03",
              "version_major": 2,
              "version_minor": 0
            },
            "text/plain": [
              "Epoch 26:   0%|          | 0/100 [00:00<?, ?it/s]"
            ]
          },
          "metadata": {},
          "output_type": "display_data"
        },
        {
          "data": {
            "application/vnd.jupyter.widget-view+json": {
              "model_id": "a18ae1b999744848832257b95736f422",
              "version_major": 2,
              "version_minor": 0
            },
            "text/plain": [
              "Validation:   0%|          | 0/50 [00:00<?, ?it/s]"
            ]
          },
          "metadata": {},
          "output_type": "display_data"
        },
        {
          "data": {
            "application/vnd.jupyter.widget-view+json": {
              "model_id": "b71209fb77534f8b9b18d9df11f0a683",
              "version_major": 2,
              "version_minor": 0
            },
            "text/plain": [
              "Epoch 27:   0%|          | 0/100 [00:00<?, ?it/s]"
            ]
          },
          "metadata": {},
          "output_type": "display_data"
        },
        {
          "data": {
            "application/vnd.jupyter.widget-view+json": {
              "model_id": "4013bf2fc26f4b26a9d9856543409a36",
              "version_major": 2,
              "version_minor": 0
            },
            "text/plain": [
              "Validation:   0%|          | 0/50 [00:00<?, ?it/s]"
            ]
          },
          "metadata": {},
          "output_type": "display_data"
        },
        {
          "name": "stdout",
          "output_type": "stream",
          "text": [
            "Found a new best model.\n"
          ]
        },
        {
          "data": {
            "application/vnd.jupyter.widget-view+json": {
              "model_id": "2fed154c051345ff82e5ad499386d578",
              "version_major": 2,
              "version_minor": 0
            },
            "text/plain": [
              "Epoch 28:   0%|          | 0/100 [00:00<?, ?it/s]"
            ]
          },
          "metadata": {},
          "output_type": "display_data"
        },
        {
          "data": {
            "application/vnd.jupyter.widget-view+json": {
              "model_id": "8e6aaeedada34816a5f397775285414d",
              "version_major": 2,
              "version_minor": 0
            },
            "text/plain": [
              "Validation:   0%|          | 0/50 [00:00<?, ?it/s]"
            ]
          },
          "metadata": {},
          "output_type": "display_data"
        },
        {
          "data": {
            "application/vnd.jupyter.widget-view+json": {
              "model_id": "1647cea8c1d64d288cfca8410218ac2b",
              "version_major": 2,
              "version_minor": 0
            },
            "text/plain": [
              "Epoch 29:   0%|          | 0/100 [00:00<?, ?it/s]"
            ]
          },
          "metadata": {},
          "output_type": "display_data"
        },
        {
          "data": {
            "application/vnd.jupyter.widget-view+json": {
              "model_id": "96ca3a9b1e684943a9c94203e558360c",
              "version_major": 2,
              "version_minor": 0
            },
            "text/plain": [
              "Validation:   0%|          | 0/50 [00:00<?, ?it/s]"
            ]
          },
          "metadata": {},
          "output_type": "display_data"
        },
        {
          "data": {
            "application/vnd.jupyter.widget-view+json": {
              "model_id": "75b88ae6c88c433f87151df9f96761c2",
              "version_major": 2,
              "version_minor": 0
            },
            "text/plain": [
              "Epoch 30:   0%|          | 0/100 [00:00<?, ?it/s]"
            ]
          },
          "metadata": {},
          "output_type": "display_data"
        },
        {
          "data": {
            "application/vnd.jupyter.widget-view+json": {
              "model_id": "144915d92f8c4a17b4f4ec2eaa693f0d",
              "version_major": 2,
              "version_minor": 0
            },
            "text/plain": [
              "Validation:   0%|          | 0/50 [00:00<?, ?it/s]"
            ]
          },
          "metadata": {},
          "output_type": "display_data"
        },
        {
          "data": {
            "application/vnd.jupyter.widget-view+json": {
              "model_id": "29d3f44490ee40e29301deb89895fca2",
              "version_major": 2,
              "version_minor": 0
            },
            "text/plain": [
              "Epoch 31:   0%|          | 0/100 [00:00<?, ?it/s]"
            ]
          },
          "metadata": {},
          "output_type": "display_data"
        },
        {
          "data": {
            "application/vnd.jupyter.widget-view+json": {
              "model_id": "81381f75be23450d9e26ec5d2ed58705",
              "version_major": 2,
              "version_minor": 0
            },
            "text/plain": [
              "Validation:   0%|          | 0/50 [00:00<?, ?it/s]"
            ]
          },
          "metadata": {},
          "output_type": "display_data"
        },
        {
          "data": {
            "application/vnd.jupyter.widget-view+json": {
              "model_id": "bea7c73100054ae0a1aca6e78b337b63",
              "version_major": 2,
              "version_minor": 0
            },
            "text/plain": [
              "Epoch 32:   0%|          | 0/100 [00:00<?, ?it/s]"
            ]
          },
          "metadata": {},
          "output_type": "display_data"
        },
        {
          "data": {
            "application/vnd.jupyter.widget-view+json": {
              "model_id": "6fb2bad9ba9344b6aefcd2819aa17591",
              "version_major": 2,
              "version_minor": 0
            },
            "text/plain": [
              "Validation:   0%|          | 0/50 [00:00<?, ?it/s]"
            ]
          },
          "metadata": {},
          "output_type": "display_data"
        },
        {
          "data": {
            "application/vnd.jupyter.widget-view+json": {
              "model_id": "8827cfca6bd6461eb22c4ae4e7612923",
              "version_major": 2,
              "version_minor": 0
            },
            "text/plain": [
              "Epoch 33:   0%|          | 0/100 [00:00<?, ?it/s]"
            ]
          },
          "metadata": {},
          "output_type": "display_data"
        },
        {
          "data": {
            "application/vnd.jupyter.widget-view+json": {
              "model_id": "9e85d74b592647b088a7cb39340c58e5",
              "version_major": 2,
              "version_minor": 0
            },
            "text/plain": [
              "Validation:   0%|          | 0/50 [00:00<?, ?it/s]"
            ]
          },
          "metadata": {},
          "output_type": "display_data"
        },
        {
          "data": {
            "application/vnd.jupyter.widget-view+json": {
              "model_id": "4688b7cca8ed47b08b0bce4c6d488c65",
              "version_major": 2,
              "version_minor": 0
            },
            "text/plain": [
              "Epoch 34:   0%|          | 0/100 [00:00<?, ?it/s]"
            ]
          },
          "metadata": {},
          "output_type": "display_data"
        },
        {
          "data": {
            "application/vnd.jupyter.widget-view+json": {
              "model_id": "0c5cc562a41a4cdea236b3b987ba93b2",
              "version_major": 2,
              "version_minor": 0
            },
            "text/plain": [
              "Validation:   0%|          | 0/50 [00:00<?, ?it/s]"
            ]
          },
          "metadata": {},
          "output_type": "display_data"
        },
        {
          "name": "stdout",
          "output_type": "stream",
          "text": [
            "Found a new best model.\n"
          ]
        },
        {
          "data": {
            "application/vnd.jupyter.widget-view+json": {
              "model_id": "258a7ed50b794003b0b612056894d892",
              "version_major": 2,
              "version_minor": 0
            },
            "text/plain": [
              "Epoch 35:   0%|          | 0/100 [00:00<?, ?it/s]"
            ]
          },
          "metadata": {},
          "output_type": "display_data"
        },
        {
          "data": {
            "application/vnd.jupyter.widget-view+json": {
              "model_id": "9e69f935fe064fe0a210d57365e0ee96",
              "version_major": 2,
              "version_minor": 0
            },
            "text/plain": [
              "Validation:   0%|          | 0/50 [00:00<?, ?it/s]"
            ]
          },
          "metadata": {},
          "output_type": "display_data"
        },
        {
          "data": {
            "application/vnd.jupyter.widget-view+json": {
              "model_id": "b278ed0daa03444d85dc8a6ba75b7303",
              "version_major": 2,
              "version_minor": 0
            },
            "text/plain": [
              "Epoch 36:   0%|          | 0/100 [00:00<?, ?it/s]"
            ]
          },
          "metadata": {},
          "output_type": "display_data"
        },
        {
          "data": {
            "application/vnd.jupyter.widget-view+json": {
              "model_id": "e4bd6f30fdce43c8a16c20bd05d3f374",
              "version_major": 2,
              "version_minor": 0
            },
            "text/plain": [
              "Validation:   0%|          | 0/50 [00:00<?, ?it/s]"
            ]
          },
          "metadata": {},
          "output_type": "display_data"
        },
        {
          "data": {
            "application/vnd.jupyter.widget-view+json": {
              "model_id": "2a54fe90776f409db6cc8bf2482e2c54",
              "version_major": 2,
              "version_minor": 0
            },
            "text/plain": [
              "Epoch 37:   0%|          | 0/100 [00:00<?, ?it/s]"
            ]
          },
          "metadata": {},
          "output_type": "display_data"
        },
        {
          "data": {
            "application/vnd.jupyter.widget-view+json": {
              "model_id": "1c4063b780684dd4b40d775b9fbe082d",
              "version_major": 2,
              "version_minor": 0
            },
            "text/plain": [
              "Validation:   0%|          | 0/50 [00:00<?, ?it/s]"
            ]
          },
          "metadata": {},
          "output_type": "display_data"
        },
        {
          "data": {
            "application/vnd.jupyter.widget-view+json": {
              "model_id": "0884e4c2ae19495c9bb2a126cb007f20",
              "version_major": 2,
              "version_minor": 0
            },
            "text/plain": [
              "Epoch 38:   0%|          | 0/100 [00:00<?, ?it/s]"
            ]
          },
          "metadata": {},
          "output_type": "display_data"
        },
        {
          "data": {
            "application/vnd.jupyter.widget-view+json": {
              "model_id": "30e3c96600ab4c0aa95393ad0341e3cf",
              "version_major": 2,
              "version_minor": 0
            },
            "text/plain": [
              "Validation:   0%|          | 0/50 [00:00<?, ?it/s]"
            ]
          },
          "metadata": {},
          "output_type": "display_data"
        },
        {
          "data": {
            "application/vnd.jupyter.widget-view+json": {
              "model_id": "edc24214a0bd41b48004227f05a2f139",
              "version_major": 2,
              "version_minor": 0
            },
            "text/plain": [
              "Epoch 39:   0%|          | 0/100 [00:00<?, ?it/s]"
            ]
          },
          "metadata": {},
          "output_type": "display_data"
        },
        {
          "data": {
            "application/vnd.jupyter.widget-view+json": {
              "model_id": "8e166ba2bf224350a20f550fdc43ad15",
              "version_major": 2,
              "version_minor": 0
            },
            "text/plain": [
              "Validation:   0%|          | 0/50 [00:00<?, ?it/s]"
            ]
          },
          "metadata": {},
          "output_type": "display_data"
        },
        {
          "data": {
            "application/vnd.jupyter.widget-view+json": {
              "model_id": "4e722eae24eb4b9485b8cd3695ef75ab",
              "version_major": 2,
              "version_minor": 0
            },
            "text/plain": [
              "Epoch 40:   0%|          | 0/100 [00:00<?, ?it/s]"
            ]
          },
          "metadata": {},
          "output_type": "display_data"
        },
        {
          "data": {
            "application/vnd.jupyter.widget-view+json": {
              "model_id": "d55c123ac8474ef2b74294fe8a74b8dd",
              "version_major": 2,
              "version_minor": 0
            },
            "text/plain": [
              "Validation:   0%|          | 0/50 [00:00<?, ?it/s]"
            ]
          },
          "metadata": {},
          "output_type": "display_data"
        },
        {
          "data": {
            "application/vnd.jupyter.widget-view+json": {
              "model_id": "f6d911dc1335431bafdf1e3594a1f8e5",
              "version_major": 2,
              "version_minor": 0
            },
            "text/plain": [
              "Epoch 41:   0%|          | 0/100 [00:00<?, ?it/s]"
            ]
          },
          "metadata": {},
          "output_type": "display_data"
        },
        {
          "data": {
            "application/vnd.jupyter.widget-view+json": {
              "model_id": "5bf0497e01054f49b7f86d714a09b24f",
              "version_major": 2,
              "version_minor": 0
            },
            "text/plain": [
              "Validation:   0%|          | 0/50 [00:00<?, ?it/s]"
            ]
          },
          "metadata": {},
          "output_type": "display_data"
        },
        {
          "data": {
            "application/vnd.jupyter.widget-view+json": {
              "model_id": "68af6ca0d8e54cb48f5389254780e0ea",
              "version_major": 2,
              "version_minor": 0
            },
            "text/plain": [
              "Epoch 42:   0%|          | 0/100 [00:00<?, ?it/s]"
            ]
          },
          "metadata": {},
          "output_type": "display_data"
        },
        {
          "data": {
            "application/vnd.jupyter.widget-view+json": {
              "model_id": "8eccd3740ee0481581a283e05731d579",
              "version_major": 2,
              "version_minor": 0
            },
            "text/plain": [
              "Validation:   0%|          | 0/50 [00:00<?, ?it/s]"
            ]
          },
          "metadata": {},
          "output_type": "display_data"
        },
        {
          "data": {
            "application/vnd.jupyter.widget-view+json": {
              "model_id": "5a42c972f70c4772b6026e3f2f2e233a",
              "version_major": 2,
              "version_minor": 0
            },
            "text/plain": [
              "Epoch 43:   0%|          | 0/100 [00:00<?, ?it/s]"
            ]
          },
          "metadata": {},
          "output_type": "display_data"
        },
        {
          "data": {
            "application/vnd.jupyter.widget-view+json": {
              "model_id": "5bb0c197c94f42778be627a1f3ea919b",
              "version_major": 2,
              "version_minor": 0
            },
            "text/plain": [
              "Validation:   0%|          | 0/50 [00:00<?, ?it/s]"
            ]
          },
          "metadata": {},
          "output_type": "display_data"
        },
        {
          "data": {
            "application/vnd.jupyter.widget-view+json": {
              "model_id": "0696f1fc31d5484aa6781baa58ab93a0",
              "version_major": 2,
              "version_minor": 0
            },
            "text/plain": [
              "Epoch 44:   0%|          | 0/100 [00:00<?, ?it/s]"
            ]
          },
          "metadata": {},
          "output_type": "display_data"
        },
        {
          "data": {
            "application/vnd.jupyter.widget-view+json": {
              "model_id": "6c9ea08a9e464230b4a730e37a709958",
              "version_major": 2,
              "version_minor": 0
            },
            "text/plain": [
              "Validation:   0%|          | 0/50 [00:00<?, ?it/s]"
            ]
          },
          "metadata": {},
          "output_type": "display_data"
        },
        {
          "name": "stdout",
          "output_type": "stream",
          "text": [
            "Found a new best model.\n"
          ]
        },
        {
          "data": {
            "application/vnd.jupyter.widget-view+json": {
              "model_id": "b9a2f52245d245159dc0a5c6b8e792e7",
              "version_major": 2,
              "version_minor": 0
            },
            "text/plain": [
              "Epoch 45:   0%|          | 0/100 [00:00<?, ?it/s]"
            ]
          },
          "metadata": {},
          "output_type": "display_data"
        },
        {
          "data": {
            "application/vnd.jupyter.widget-view+json": {
              "model_id": "0f80bf14349a43c892858164d3c304b5",
              "version_major": 2,
              "version_minor": 0
            },
            "text/plain": [
              "Validation:   0%|          | 0/50 [00:00<?, ?it/s]"
            ]
          },
          "metadata": {},
          "output_type": "display_data"
        },
        {
          "name": "stdout",
          "output_type": "stream",
          "text": [
            "Found a new best model.\n"
          ]
        },
        {
          "data": {
            "application/vnd.jupyter.widget-view+json": {
              "model_id": "5a704eddae8f45d4a5de59f67408f7f7",
              "version_major": 2,
              "version_minor": 0
            },
            "text/plain": [
              "Epoch 46:   0%|          | 0/100 [00:00<?, ?it/s]"
            ]
          },
          "metadata": {},
          "output_type": "display_data"
        },
        {
          "data": {
            "application/vnd.jupyter.widget-view+json": {
              "model_id": "e2bf60f2d235487f99af5289bf8a9e20",
              "version_major": 2,
              "version_minor": 0
            },
            "text/plain": [
              "Validation:   0%|          | 0/50 [00:00<?, ?it/s]"
            ]
          },
          "metadata": {},
          "output_type": "display_data"
        },
        {
          "data": {
            "application/vnd.jupyter.widget-view+json": {
              "model_id": "57ac1e0f508f45b6bcb136558b16fd9c",
              "version_major": 2,
              "version_minor": 0
            },
            "text/plain": [
              "Epoch 47:   0%|          | 0/100 [00:00<?, ?it/s]"
            ]
          },
          "metadata": {},
          "output_type": "display_data"
        },
        {
          "data": {
            "application/vnd.jupyter.widget-view+json": {
              "model_id": "de41e8f2205544d59d7c9daa23176dc5",
              "version_major": 2,
              "version_minor": 0
            },
            "text/plain": [
              "Validation:   0%|          | 0/50 [00:00<?, ?it/s]"
            ]
          },
          "metadata": {},
          "output_type": "display_data"
        },
        {
          "name": "stdout",
          "output_type": "stream",
          "text": [
            "Found a new best model.\n"
          ]
        },
        {
          "data": {
            "application/vnd.jupyter.widget-view+json": {
              "model_id": "c98dceed9e5c4278a42a33a4831f6eba",
              "version_major": 2,
              "version_minor": 0
            },
            "text/plain": [
              "Epoch 48:   0%|          | 0/100 [00:00<?, ?it/s]"
            ]
          },
          "metadata": {},
          "output_type": "display_data"
        },
        {
          "data": {
            "application/vnd.jupyter.widget-view+json": {
              "model_id": "df4e431aec7a4c9a934f48206d5a1ed0",
              "version_major": 2,
              "version_minor": 0
            },
            "text/plain": [
              "Validation:   0%|          | 0/50 [00:00<?, ?it/s]"
            ]
          },
          "metadata": {},
          "output_type": "display_data"
        },
        {
          "data": {
            "application/vnd.jupyter.widget-view+json": {
              "model_id": "e2946b0666d2450da3266666a24b047f",
              "version_major": 2,
              "version_minor": 0
            },
            "text/plain": [
              "Epoch 49:   0%|          | 0/100 [00:00<?, ?it/s]"
            ]
          },
          "metadata": {},
          "output_type": "display_data"
        },
        {
          "data": {
            "application/vnd.jupyter.widget-view+json": {
              "model_id": "c255278028704675b8b48ae0c371152e",
              "version_major": 2,
              "version_minor": 0
            },
            "text/plain": [
              "Validation:   0%|          | 0/50 [00:00<?, ?it/s]"
            ]
          },
          "metadata": {},
          "output_type": "display_data"
        },
        {
          "name": "stdout",
          "output_type": "stream",
          "text": [
            "Found a new best model.\n"
          ]
        },
        {
          "data": {
            "application/vnd.jupyter.widget-view+json": {
              "model_id": "2ecf7114495247f08b3d6c6162f8711a",
              "version_major": 2,
              "version_minor": 0
            },
            "text/plain": [
              "Epoch 50:   0%|          | 0/100 [00:00<?, ?it/s]"
            ]
          },
          "metadata": {},
          "output_type": "display_data"
        },
        {
          "data": {
            "application/vnd.jupyter.widget-view+json": {
              "model_id": "a68320a95ba64868bf0868ec65ade8a3",
              "version_major": 2,
              "version_minor": 0
            },
            "text/plain": [
              "Validation:   0%|          | 0/50 [00:00<?, ?it/s]"
            ]
          },
          "metadata": {},
          "output_type": "display_data"
        },
        {
          "name": "stdout",
          "output_type": "stream",
          "text": [
            "Found a new best model.\n"
          ]
        },
        {
          "data": {
            "application/vnd.jupyter.widget-view+json": {
              "model_id": "f51f26d602b34b60868d6c1cc605a156",
              "version_major": 2,
              "version_minor": 0
            },
            "text/plain": [
              "Epoch 51:   0%|          | 0/100 [00:00<?, ?it/s]"
            ]
          },
          "metadata": {},
          "output_type": "display_data"
        },
        {
          "data": {
            "application/vnd.jupyter.widget-view+json": {
              "model_id": "3100959a0804480f94657fafed2a0c50",
              "version_major": 2,
              "version_minor": 0
            },
            "text/plain": [
              "Validation:   0%|          | 0/50 [00:00<?, ?it/s]"
            ]
          },
          "metadata": {},
          "output_type": "display_data"
        },
        {
          "data": {
            "application/vnd.jupyter.widget-view+json": {
              "model_id": "577ea4f3ce4e444fafb4d8931ecd20bf",
              "version_major": 2,
              "version_minor": 0
            },
            "text/plain": [
              "Epoch 52:   0%|          | 0/100 [00:00<?, ?it/s]"
            ]
          },
          "metadata": {},
          "output_type": "display_data"
        },
        {
          "data": {
            "application/vnd.jupyter.widget-view+json": {
              "model_id": "73ea1ab8a51d4433bb9b5a813220edb9",
              "version_major": 2,
              "version_minor": 0
            },
            "text/plain": [
              "Validation:   0%|          | 0/50 [00:00<?, ?it/s]"
            ]
          },
          "metadata": {},
          "output_type": "display_data"
        },
        {
          "data": {
            "application/vnd.jupyter.widget-view+json": {
              "model_id": "fc8983a993b64c2699f81db1abc6324c",
              "version_major": 2,
              "version_minor": 0
            },
            "text/plain": [
              "Epoch 53:   0%|          | 0/100 [00:00<?, ?it/s]"
            ]
          },
          "metadata": {},
          "output_type": "display_data"
        },
        {
          "data": {
            "application/vnd.jupyter.widget-view+json": {
              "model_id": "0d63f71cdae24f57aa5d9e694c78d8cf",
              "version_major": 2,
              "version_minor": 0
            },
            "text/plain": [
              "Validation:   0%|          | 0/50 [00:00<?, ?it/s]"
            ]
          },
          "metadata": {},
          "output_type": "display_data"
        },
        {
          "data": {
            "application/vnd.jupyter.widget-view+json": {
              "model_id": "37f04ebcea24477fa7b9b64e63ccb1e4",
              "version_major": 2,
              "version_minor": 0
            },
            "text/plain": [
              "Epoch 54:   0%|          | 0/100 [00:00<?, ?it/s]"
            ]
          },
          "metadata": {},
          "output_type": "display_data"
        },
        {
          "data": {
            "application/vnd.jupyter.widget-view+json": {
              "model_id": "f3c4b92f4f52402eb55ff6643185715f",
              "version_major": 2,
              "version_minor": 0
            },
            "text/plain": [
              "Validation:   0%|          | 0/50 [00:00<?, ?it/s]"
            ]
          },
          "metadata": {},
          "output_type": "display_data"
        },
        {
          "data": {
            "application/vnd.jupyter.widget-view+json": {
              "model_id": "44b524c7ea0948f3b719f2d3650208ad",
              "version_major": 2,
              "version_minor": 0
            },
            "text/plain": [
              "Epoch 55:   0%|          | 0/100 [00:00<?, ?it/s]"
            ]
          },
          "metadata": {},
          "output_type": "display_data"
        },
        {
          "data": {
            "application/vnd.jupyter.widget-view+json": {
              "model_id": "3942102cb0ee428a95fd6c4db54eb0d6",
              "version_major": 2,
              "version_minor": 0
            },
            "text/plain": [
              "Validation:   0%|          | 0/50 [00:00<?, ?it/s]"
            ]
          },
          "metadata": {},
          "output_type": "display_data"
        },
        {
          "data": {
            "application/vnd.jupyter.widget-view+json": {
              "model_id": "1e02ea5688b441348e9b0863d9068cdd",
              "version_major": 2,
              "version_minor": 0
            },
            "text/plain": [
              "Epoch 56:   0%|          | 0/100 [00:00<?, ?it/s]"
            ]
          },
          "metadata": {},
          "output_type": "display_data"
        },
        {
          "data": {
            "application/vnd.jupyter.widget-view+json": {
              "model_id": "79f03791b7e64999914e9d9de4f22c42",
              "version_major": 2,
              "version_minor": 0
            },
            "text/plain": [
              "Validation:   0%|          | 0/50 [00:00<?, ?it/s]"
            ]
          },
          "metadata": {},
          "output_type": "display_data"
        },
        {
          "data": {
            "application/vnd.jupyter.widget-view+json": {
              "model_id": "7d257295fe04424eb275407262fb970a",
              "version_major": 2,
              "version_minor": 0
            },
            "text/plain": [
              "Epoch 57:   0%|          | 0/100 [00:00<?, ?it/s]"
            ]
          },
          "metadata": {},
          "output_type": "display_data"
        },
        {
          "data": {
            "application/vnd.jupyter.widget-view+json": {
              "model_id": "33a2b432c8de4f79b756bec18dedac58",
              "version_major": 2,
              "version_minor": 0
            },
            "text/plain": [
              "Validation:   0%|          | 0/50 [00:00<?, ?it/s]"
            ]
          },
          "metadata": {},
          "output_type": "display_data"
        },
        {
          "name": "stdout",
          "output_type": "stream",
          "text": [
            "Found a new best model.\n"
          ]
        },
        {
          "data": {
            "application/vnd.jupyter.widget-view+json": {
              "model_id": "cbc52b0cbc094f1aa5c4137896d84a72",
              "version_major": 2,
              "version_minor": 0
            },
            "text/plain": [
              "Epoch 58:   0%|          | 0/100 [00:00<?, ?it/s]"
            ]
          },
          "metadata": {},
          "output_type": "display_data"
        },
        {
          "data": {
            "application/vnd.jupyter.widget-view+json": {
              "model_id": "f1c4597d316b4d9298d5fdba91fd6456",
              "version_major": 2,
              "version_minor": 0
            },
            "text/plain": [
              "Validation:   0%|          | 0/50 [00:00<?, ?it/s]"
            ]
          },
          "metadata": {},
          "output_type": "display_data"
        },
        {
          "data": {
            "application/vnd.jupyter.widget-view+json": {
              "model_id": "547246d9c1864197beed17608718bbfb",
              "version_major": 2,
              "version_minor": 0
            },
            "text/plain": [
              "Epoch 59:   0%|          | 0/100 [00:00<?, ?it/s]"
            ]
          },
          "metadata": {},
          "output_type": "display_data"
        },
        {
          "data": {
            "application/vnd.jupyter.widget-view+json": {
              "model_id": "eaf59ccb0b9a475e9275f1130eb62e40",
              "version_major": 2,
              "version_minor": 0
            },
            "text/plain": [
              "Validation:   0%|          | 0/50 [00:00<?, ?it/s]"
            ]
          },
          "metadata": {},
          "output_type": "display_data"
        },
        {
          "data": {
            "application/vnd.jupyter.widget-view+json": {
              "model_id": "3c94da1031ee4878b582008f40be2e76",
              "version_major": 2,
              "version_minor": 0
            },
            "text/plain": [
              "Epoch 60:   0%|          | 0/100 [00:00<?, ?it/s]"
            ]
          },
          "metadata": {},
          "output_type": "display_data"
        },
        {
          "data": {
            "application/vnd.jupyter.widget-view+json": {
              "model_id": "35ed545f296041b7b7998221982fd162",
              "version_major": 2,
              "version_minor": 0
            },
            "text/plain": [
              "Validation:   0%|          | 0/50 [00:00<?, ?it/s]"
            ]
          },
          "metadata": {},
          "output_type": "display_data"
        },
        {
          "data": {
            "application/vnd.jupyter.widget-view+json": {
              "model_id": "a09bc823b6d94d54ae3e548fdef73a08",
              "version_major": 2,
              "version_minor": 0
            },
            "text/plain": [
              "Epoch 61:   0%|          | 0/100 [00:00<?, ?it/s]"
            ]
          },
          "metadata": {},
          "output_type": "display_data"
        },
        {
          "data": {
            "application/vnd.jupyter.widget-view+json": {
              "model_id": "8bfef6338f5342daaed73cdd3f80625e",
              "version_major": 2,
              "version_minor": 0
            },
            "text/plain": [
              "Validation:   0%|          | 0/50 [00:00<?, ?it/s]"
            ]
          },
          "metadata": {},
          "output_type": "display_data"
        },
        {
          "data": {
            "application/vnd.jupyter.widget-view+json": {
              "model_id": "206706c7a4ee4dbca15f9bd44d55ea17",
              "version_major": 2,
              "version_minor": 0
            },
            "text/plain": [
              "Epoch 62:   0%|          | 0/100 [00:00<?, ?it/s]"
            ]
          },
          "metadata": {},
          "output_type": "display_data"
        },
        {
          "data": {
            "application/vnd.jupyter.widget-view+json": {
              "model_id": "55e3f88e058942f898ba0119d634a177",
              "version_major": 2,
              "version_minor": 0
            },
            "text/plain": [
              "Validation:   0%|          | 0/50 [00:00<?, ?it/s]"
            ]
          },
          "metadata": {},
          "output_type": "display_data"
        },
        {
          "data": {
            "application/vnd.jupyter.widget-view+json": {
              "model_id": "9deee041397b4f7a94d4b0999b6e3f34",
              "version_major": 2,
              "version_minor": 0
            },
            "text/plain": [
              "Epoch 63:   0%|          | 0/100 [00:00<?, ?it/s]"
            ]
          },
          "metadata": {},
          "output_type": "display_data"
        },
        {
          "data": {
            "application/vnd.jupyter.widget-view+json": {
              "model_id": "dbf4c0e333544b8381f84984e3136828",
              "version_major": 2,
              "version_minor": 0
            },
            "text/plain": [
              "Validation:   0%|          | 0/50 [00:00<?, ?it/s]"
            ]
          },
          "metadata": {},
          "output_type": "display_data"
        },
        {
          "data": {
            "application/vnd.jupyter.widget-view+json": {
              "model_id": "85d303365d154e69a2b77667dfd0dfe0",
              "version_major": 2,
              "version_minor": 0
            },
            "text/plain": [
              "Epoch 64:   0%|          | 0/100 [00:00<?, ?it/s]"
            ]
          },
          "metadata": {},
          "output_type": "display_data"
        },
        {
          "data": {
            "application/vnd.jupyter.widget-view+json": {
              "model_id": "1fb7bbcda2df47e5ac901ea45c86541c",
              "version_major": 2,
              "version_minor": 0
            },
            "text/plain": [
              "Validation:   0%|          | 0/50 [00:00<?, ?it/s]"
            ]
          },
          "metadata": {},
          "output_type": "display_data"
        },
        {
          "data": {
            "application/vnd.jupyter.widget-view+json": {
              "model_id": "d63545808d4c45bd8e3ebc583e8a039c",
              "version_major": 2,
              "version_minor": 0
            },
            "text/plain": [
              "Epoch 65:   0%|          | 0/100 [00:00<?, ?it/s]"
            ]
          },
          "metadata": {},
          "output_type": "display_data"
        },
        {
          "data": {
            "application/vnd.jupyter.widget-view+json": {
              "model_id": "36919ecc92ea49818ffbf947eaeb88e9",
              "version_major": 2,
              "version_minor": 0
            },
            "text/plain": [
              "Validation:   0%|          | 0/50 [00:00<?, ?it/s]"
            ]
          },
          "metadata": {},
          "output_type": "display_data"
        },
        {
          "data": {
            "application/vnd.jupyter.widget-view+json": {
              "model_id": "6801877ba5f244a19031d8010e5be974",
              "version_major": 2,
              "version_minor": 0
            },
            "text/plain": [
              "Epoch 66:   0%|          | 0/100 [00:00<?, ?it/s]"
            ]
          },
          "metadata": {},
          "output_type": "display_data"
        },
        {
          "data": {
            "application/vnd.jupyter.widget-view+json": {
              "model_id": "1bfea893a2ca42269561eb5599c334e1",
              "version_major": 2,
              "version_minor": 0
            },
            "text/plain": [
              "Validation:   0%|          | 0/50 [00:00<?, ?it/s]"
            ]
          },
          "metadata": {},
          "output_type": "display_data"
        },
        {
          "data": {
            "application/vnd.jupyter.widget-view+json": {
              "model_id": "d86fc93e8eeb488b8e0af7a6d9b0b33e",
              "version_major": 2,
              "version_minor": 0
            },
            "text/plain": [
              "Epoch 67:   0%|          | 0/100 [00:00<?, ?it/s]"
            ]
          },
          "metadata": {},
          "output_type": "display_data"
        },
        {
          "data": {
            "application/vnd.jupyter.widget-view+json": {
              "model_id": "290a2ecce9c74bf09920a2ec608648f5",
              "version_major": 2,
              "version_minor": 0
            },
            "text/plain": [
              "Validation:   0%|          | 0/50 [00:00<?, ?it/s]"
            ]
          },
          "metadata": {},
          "output_type": "display_data"
        },
        {
          "data": {
            "application/vnd.jupyter.widget-view+json": {
              "model_id": "880303dddcd042ba954dcf300072563a",
              "version_major": 2,
              "version_minor": 0
            },
            "text/plain": [
              "Epoch 68:   0%|          | 0/100 [00:00<?, ?it/s]"
            ]
          },
          "metadata": {},
          "output_type": "display_data"
        },
        {
          "data": {
            "application/vnd.jupyter.widget-view+json": {
              "model_id": "65759c6a79a04ff0ba67d16eec60f60d",
              "version_major": 2,
              "version_minor": 0
            },
            "text/plain": [
              "Validation:   0%|          | 0/50 [00:00<?, ?it/s]"
            ]
          },
          "metadata": {},
          "output_type": "display_data"
        },
        {
          "data": {
            "application/vnd.jupyter.widget-view+json": {
              "model_id": "57cecce6c05d4467a5cbdd16bd9d1762",
              "version_major": 2,
              "version_minor": 0
            },
            "text/plain": [
              "Epoch 69:   0%|          | 0/100 [00:00<?, ?it/s]"
            ]
          },
          "metadata": {},
          "output_type": "display_data"
        },
        {
          "data": {
            "application/vnd.jupyter.widget-view+json": {
              "model_id": "2f85898627074ca49bf9119aace8beb3",
              "version_major": 2,
              "version_minor": 0
            },
            "text/plain": [
              "Validation:   0%|          | 0/50 [00:00<?, ?it/s]"
            ]
          },
          "metadata": {},
          "output_type": "display_data"
        },
        {
          "data": {
            "application/vnd.jupyter.widget-view+json": {
              "model_id": "a55050622edb48e39d6728c6c3a417c0",
              "version_major": 2,
              "version_minor": 0
            },
            "text/plain": [
              "Epoch 70:   0%|          | 0/100 [00:00<?, ?it/s]"
            ]
          },
          "metadata": {},
          "output_type": "display_data"
        },
        {
          "data": {
            "application/vnd.jupyter.widget-view+json": {
              "model_id": "d077240df77b446fa7e64a0537f19bf6",
              "version_major": 2,
              "version_minor": 0
            },
            "text/plain": [
              "Validation:   0%|          | 0/50 [00:00<?, ?it/s]"
            ]
          },
          "metadata": {},
          "output_type": "display_data"
        },
        {
          "name": "stdout",
          "output_type": "stream",
          "text": [
            "Found a new best model.\n"
          ]
        },
        {
          "data": {
            "application/vnd.jupyter.widget-view+json": {
              "model_id": "3b6e1684df4a482096efb51b55ea629c",
              "version_major": 2,
              "version_minor": 0
            },
            "text/plain": [
              "Epoch 71:   0%|          | 0/100 [00:00<?, ?it/s]"
            ]
          },
          "metadata": {},
          "output_type": "display_data"
        },
        {
          "data": {
            "application/vnd.jupyter.widget-view+json": {
              "model_id": "3bea42d24e0a4c79af489af1e63a5818",
              "version_major": 2,
              "version_minor": 0
            },
            "text/plain": [
              "Validation:   0%|          | 0/50 [00:00<?, ?it/s]"
            ]
          },
          "metadata": {},
          "output_type": "display_data"
        },
        {
          "data": {
            "application/vnd.jupyter.widget-view+json": {
              "model_id": "010908b371d746beb4a801d38303e284",
              "version_major": 2,
              "version_minor": 0
            },
            "text/plain": [
              "Epoch 72:   0%|          | 0/100 [00:00<?, ?it/s]"
            ]
          },
          "metadata": {},
          "output_type": "display_data"
        },
        {
          "data": {
            "application/vnd.jupyter.widget-view+json": {
              "model_id": "6272d0f6828c40b8ad0a53a0cd7a4303",
              "version_major": 2,
              "version_minor": 0
            },
            "text/plain": [
              "Validation:   0%|          | 0/50 [00:00<?, ?it/s]"
            ]
          },
          "metadata": {},
          "output_type": "display_data"
        },
        {
          "data": {
            "application/vnd.jupyter.widget-view+json": {
              "model_id": "98f02419339b4b2a9429895694c01a86",
              "version_major": 2,
              "version_minor": 0
            },
            "text/plain": [
              "Epoch 73:   0%|          | 0/100 [00:00<?, ?it/s]"
            ]
          },
          "metadata": {},
          "output_type": "display_data"
        },
        {
          "data": {
            "application/vnd.jupyter.widget-view+json": {
              "model_id": "426753aa2d3948a7954e2c1e38924196",
              "version_major": 2,
              "version_minor": 0
            },
            "text/plain": [
              "Validation:   0%|          | 0/50 [00:00<?, ?it/s]"
            ]
          },
          "metadata": {},
          "output_type": "display_data"
        },
        {
          "data": {
            "application/vnd.jupyter.widget-view+json": {
              "model_id": "18246e7881154d11ab0756bc5687da4c",
              "version_major": 2,
              "version_minor": 0
            },
            "text/plain": [
              "Epoch 74:   0%|          | 0/100 [00:00<?, ?it/s]"
            ]
          },
          "metadata": {},
          "output_type": "display_data"
        },
        {
          "data": {
            "application/vnd.jupyter.widget-view+json": {
              "model_id": "221b380727ae4b00873a5aeccc77ae8c",
              "version_major": 2,
              "version_minor": 0
            },
            "text/plain": [
              "Validation:   0%|          | 0/50 [00:00<?, ?it/s]"
            ]
          },
          "metadata": {},
          "output_type": "display_data"
        },
        {
          "data": {
            "application/vnd.jupyter.widget-view+json": {
              "model_id": "7f5125f024864010a5ffa99c1cf992d0",
              "version_major": 2,
              "version_minor": 0
            },
            "text/plain": [
              "Epoch 75:   0%|          | 0/100 [00:00<?, ?it/s]"
            ]
          },
          "metadata": {},
          "output_type": "display_data"
        },
        {
          "data": {
            "application/vnd.jupyter.widget-view+json": {
              "model_id": "72cebc68d928419dbd5d5d82253b401e",
              "version_major": 2,
              "version_minor": 0
            },
            "text/plain": [
              "Validation:   0%|          | 0/50 [00:00<?, ?it/s]"
            ]
          },
          "metadata": {},
          "output_type": "display_data"
        },
        {
          "data": {
            "application/vnd.jupyter.widget-view+json": {
              "model_id": "cd7679468693403f8d114cddd5dfe758",
              "version_major": 2,
              "version_minor": 0
            },
            "text/plain": [
              "Epoch 76:   0%|          | 0/100 [00:00<?, ?it/s]"
            ]
          },
          "metadata": {},
          "output_type": "display_data"
        },
        {
          "data": {
            "application/vnd.jupyter.widget-view+json": {
              "model_id": "da8e2a0f37ce4c5b8e24748a64fadb1d",
              "version_major": 2,
              "version_minor": 0
            },
            "text/plain": [
              "Validation:   0%|          | 0/50 [00:00<?, ?it/s]"
            ]
          },
          "metadata": {},
          "output_type": "display_data"
        },
        {
          "data": {
            "application/vnd.jupyter.widget-view+json": {
              "model_id": "c1bf4386865d450cb219067aa5e7d0b2",
              "version_major": 2,
              "version_minor": 0
            },
            "text/plain": [
              "Epoch 77:   0%|          | 0/100 [00:00<?, ?it/s]"
            ]
          },
          "metadata": {},
          "output_type": "display_data"
        },
        {
          "data": {
            "application/vnd.jupyter.widget-view+json": {
              "model_id": "dd19a9a0318148c6abf21448ba90a4a3",
              "version_major": 2,
              "version_minor": 0
            },
            "text/plain": [
              "Validation:   0%|          | 0/50 [00:00<?, ?it/s]"
            ]
          },
          "metadata": {},
          "output_type": "display_data"
        },
        {
          "name": "stdout",
          "output_type": "stream",
          "text": [
            "Found a new best model.\n"
          ]
        },
        {
          "data": {
            "application/vnd.jupyter.widget-view+json": {
              "model_id": "94d8090fe5504ccf857f80b713a5d8ab",
              "version_major": 2,
              "version_minor": 0
            },
            "text/plain": [
              "Epoch 78:   0%|          | 0/100 [00:00<?, ?it/s]"
            ]
          },
          "metadata": {},
          "output_type": "display_data"
        },
        {
          "data": {
            "application/vnd.jupyter.widget-view+json": {
              "model_id": "0a32cb6bc1414254848bc0852f0803e1",
              "version_major": 2,
              "version_minor": 0
            },
            "text/plain": [
              "Validation:   0%|          | 0/50 [00:00<?, ?it/s]"
            ]
          },
          "metadata": {},
          "output_type": "display_data"
        },
        {
          "data": {
            "application/vnd.jupyter.widget-view+json": {
              "model_id": "42f992717e3a434b96ab318dca6a4f04",
              "version_major": 2,
              "version_minor": 0
            },
            "text/plain": [
              "Epoch 79:   0%|          | 0/100 [00:00<?, ?it/s]"
            ]
          },
          "metadata": {},
          "output_type": "display_data"
        },
        {
          "data": {
            "application/vnd.jupyter.widget-view+json": {
              "model_id": "c008f6e282174fcbb5cab9712430caed",
              "version_major": 2,
              "version_minor": 0
            },
            "text/plain": [
              "Validation:   0%|          | 0/50 [00:00<?, ?it/s]"
            ]
          },
          "metadata": {},
          "output_type": "display_data"
        },
        {
          "name": "stdout",
          "output_type": "stream",
          "text": [
            "Found a new best model.\n"
          ]
        },
        {
          "data": {
            "application/vnd.jupyter.widget-view+json": {
              "model_id": "0b8fc954ee594777be02b70cd7ec9976",
              "version_major": 2,
              "version_minor": 0
            },
            "text/plain": [
              "Epoch 80:   0%|          | 0/100 [00:00<?, ?it/s]"
            ]
          },
          "metadata": {},
          "output_type": "display_data"
        },
        {
          "data": {
            "application/vnd.jupyter.widget-view+json": {
              "model_id": "ceb64c670ca642b699e0e01cd3fae06d",
              "version_major": 2,
              "version_minor": 0
            },
            "text/plain": [
              "Validation:   0%|          | 0/50 [00:00<?, ?it/s]"
            ]
          },
          "metadata": {},
          "output_type": "display_data"
        },
        {
          "data": {
            "application/vnd.jupyter.widget-view+json": {
              "model_id": "b4bab40820a642bf9a650303fab264b6",
              "version_major": 2,
              "version_minor": 0
            },
            "text/plain": [
              "Epoch 81:   0%|          | 0/100 [00:00<?, ?it/s]"
            ]
          },
          "metadata": {},
          "output_type": "display_data"
        },
        {
          "data": {
            "application/vnd.jupyter.widget-view+json": {
              "model_id": "f57a6831f0f941c8ac8269ac1df1de5c",
              "version_major": 2,
              "version_minor": 0
            },
            "text/plain": [
              "Validation:   0%|          | 0/50 [00:00<?, ?it/s]"
            ]
          },
          "metadata": {},
          "output_type": "display_data"
        },
        {
          "data": {
            "application/vnd.jupyter.widget-view+json": {
              "model_id": "22bf356c3ae5482d94c0b0959ed52db4",
              "version_major": 2,
              "version_minor": 0
            },
            "text/plain": [
              "Epoch 82:   0%|          | 0/100 [00:00<?, ?it/s]"
            ]
          },
          "metadata": {},
          "output_type": "display_data"
        },
        {
          "data": {
            "application/vnd.jupyter.widget-view+json": {
              "model_id": "935c7ffa44f44abf8d0cfeeafe1af659",
              "version_major": 2,
              "version_minor": 0
            },
            "text/plain": [
              "Validation:   0%|          | 0/50 [00:00<?, ?it/s]"
            ]
          },
          "metadata": {},
          "output_type": "display_data"
        },
        {
          "data": {
            "application/vnd.jupyter.widget-view+json": {
              "model_id": "e84c43bb2f5241e4945793c5491fbce5",
              "version_major": 2,
              "version_minor": 0
            },
            "text/plain": [
              "Epoch 83:   0%|          | 0/100 [00:00<?, ?it/s]"
            ]
          },
          "metadata": {},
          "output_type": "display_data"
        },
        {
          "data": {
            "application/vnd.jupyter.widget-view+json": {
              "model_id": "bfcf1bd91ea74707af3d826186af1403",
              "version_major": 2,
              "version_minor": 0
            },
            "text/plain": [
              "Validation:   0%|          | 0/50 [00:00<?, ?it/s]"
            ]
          },
          "metadata": {},
          "output_type": "display_data"
        },
        {
          "data": {
            "application/vnd.jupyter.widget-view+json": {
              "model_id": "ca3285d64ec148339436e0a1649a1378",
              "version_major": 2,
              "version_minor": 0
            },
            "text/plain": [
              "Epoch 84:   0%|          | 0/100 [00:00<?, ?it/s]"
            ]
          },
          "metadata": {},
          "output_type": "display_data"
        },
        {
          "data": {
            "application/vnd.jupyter.widget-view+json": {
              "model_id": "7885f5dd142040ddad5f5878048f17d2",
              "version_major": 2,
              "version_minor": 0
            },
            "text/plain": [
              "Validation:   0%|          | 0/50 [00:00<?, ?it/s]"
            ]
          },
          "metadata": {},
          "output_type": "display_data"
        },
        {
          "data": {
            "application/vnd.jupyter.widget-view+json": {
              "model_id": "52bb4b098c324ae7a770bd7a4f5cd3a9",
              "version_major": 2,
              "version_minor": 0
            },
            "text/plain": [
              "Epoch 85:   0%|          | 0/100 [00:00<?, ?it/s]"
            ]
          },
          "metadata": {},
          "output_type": "display_data"
        },
        {
          "data": {
            "application/vnd.jupyter.widget-view+json": {
              "model_id": "f80d99fd5598419589a8be14eceb443f",
              "version_major": 2,
              "version_minor": 0
            },
            "text/plain": [
              "Validation:   0%|          | 0/50 [00:00<?, ?it/s]"
            ]
          },
          "metadata": {},
          "output_type": "display_data"
        },
        {
          "data": {
            "application/vnd.jupyter.widget-view+json": {
              "model_id": "09962535c8414866910f1bea108dfbce",
              "version_major": 2,
              "version_minor": 0
            },
            "text/plain": [
              "Epoch 86:   0%|          | 0/100 [00:00<?, ?it/s]"
            ]
          },
          "metadata": {},
          "output_type": "display_data"
        },
        {
          "data": {
            "application/vnd.jupyter.widget-view+json": {
              "model_id": "220173c0b19f4cb19fe2442ec4004d7b",
              "version_major": 2,
              "version_minor": 0
            },
            "text/plain": [
              "Validation:   0%|          | 0/50 [00:00<?, ?it/s]"
            ]
          },
          "metadata": {},
          "output_type": "display_data"
        },
        {
          "data": {
            "application/vnd.jupyter.widget-view+json": {
              "model_id": "ba8c259fadd64a2a8f1378a7f6a22837",
              "version_major": 2,
              "version_minor": 0
            },
            "text/plain": [
              "Epoch 87:   0%|          | 0/100 [00:00<?, ?it/s]"
            ]
          },
          "metadata": {},
          "output_type": "display_data"
        },
        {
          "data": {
            "application/vnd.jupyter.widget-view+json": {
              "model_id": "e0306fc70f2444babb6822ac02b2a39c",
              "version_major": 2,
              "version_minor": 0
            },
            "text/plain": [
              "Validation:   0%|          | 0/50 [00:00<?, ?it/s]"
            ]
          },
          "metadata": {},
          "output_type": "display_data"
        },
        {
          "data": {
            "application/vnd.jupyter.widget-view+json": {
              "model_id": "bbc593eff8684b29901165559c385427",
              "version_major": 2,
              "version_minor": 0
            },
            "text/plain": [
              "Epoch 88:   0%|          | 0/100 [00:00<?, ?it/s]"
            ]
          },
          "metadata": {},
          "output_type": "display_data"
        },
        {
          "data": {
            "application/vnd.jupyter.widget-view+json": {
              "model_id": "efd6b919c10c44cf8f817e844d03acd4",
              "version_major": 2,
              "version_minor": 0
            },
            "text/plain": [
              "Validation:   0%|          | 0/50 [00:00<?, ?it/s]"
            ]
          },
          "metadata": {},
          "output_type": "display_data"
        },
        {
          "data": {
            "application/vnd.jupyter.widget-view+json": {
              "model_id": "51f5accb7271477b9b090a0db1917ca9",
              "version_major": 2,
              "version_minor": 0
            },
            "text/plain": [
              "Epoch 89:   0%|          | 0/100 [00:00<?, ?it/s]"
            ]
          },
          "metadata": {},
          "output_type": "display_data"
        },
        {
          "data": {
            "application/vnd.jupyter.widget-view+json": {
              "model_id": "faf9ce9bc79a43cdbf58569c8f5bdf8f",
              "version_major": 2,
              "version_minor": 0
            },
            "text/plain": [
              "Validation:   0%|          | 0/50 [00:00<?, ?it/s]"
            ]
          },
          "metadata": {},
          "output_type": "display_data"
        },
        {
          "data": {
            "application/vnd.jupyter.widget-view+json": {
              "model_id": "6077921b15fd43ef8aaf64946dc1ebb7",
              "version_major": 2,
              "version_minor": 0
            },
            "text/plain": [
              "Epoch 90:   0%|          | 0/100 [00:00<?, ?it/s]"
            ]
          },
          "metadata": {},
          "output_type": "display_data"
        },
        {
          "data": {
            "application/vnd.jupyter.widget-view+json": {
              "model_id": "61a68b736046436bbc2ce3c570377f4b",
              "version_major": 2,
              "version_minor": 0
            },
            "text/plain": [
              "Validation:   0%|          | 0/50 [00:00<?, ?it/s]"
            ]
          },
          "metadata": {},
          "output_type": "display_data"
        },
        {
          "data": {
            "application/vnd.jupyter.widget-view+json": {
              "model_id": "bdd7798efd9f4ac0b5041de67bda9a4a",
              "version_major": 2,
              "version_minor": 0
            },
            "text/plain": [
              "Epoch 91:   0%|          | 0/100 [00:00<?, ?it/s]"
            ]
          },
          "metadata": {},
          "output_type": "display_data"
        },
        {
          "data": {
            "application/vnd.jupyter.widget-view+json": {
              "model_id": "37f2c35e4b524d9eaa1515a452c409c5",
              "version_major": 2,
              "version_minor": 0
            },
            "text/plain": [
              "Validation:   0%|          | 0/50 [00:00<?, ?it/s]"
            ]
          },
          "metadata": {},
          "output_type": "display_data"
        },
        {
          "data": {
            "application/vnd.jupyter.widget-view+json": {
              "model_id": "79b2a670266149dd9d2c6111ff1f8cf7",
              "version_major": 2,
              "version_minor": 0
            },
            "text/plain": [
              "Epoch 92:   0%|          | 0/100 [00:00<?, ?it/s]"
            ]
          },
          "metadata": {},
          "output_type": "display_data"
        },
        {
          "data": {
            "application/vnd.jupyter.widget-view+json": {
              "model_id": "fed0fc28f0c34ca4a7130c76dcfcb84d",
              "version_major": 2,
              "version_minor": 0
            },
            "text/plain": [
              "Validation:   0%|          | 0/50 [00:00<?, ?it/s]"
            ]
          },
          "metadata": {},
          "output_type": "display_data"
        },
        {
          "data": {
            "application/vnd.jupyter.widget-view+json": {
              "model_id": "62e7e0cf2fde4a0e801cb4b9f8f39f06",
              "version_major": 2,
              "version_minor": 0
            },
            "text/plain": [
              "Epoch 93:   0%|          | 0/100 [00:00<?, ?it/s]"
            ]
          },
          "metadata": {},
          "output_type": "display_data"
        },
        {
          "data": {
            "application/vnd.jupyter.widget-view+json": {
              "model_id": "8f532cd868d74698b006445e6f0bf77d",
              "version_major": 2,
              "version_minor": 0
            },
            "text/plain": [
              "Validation:   0%|          | 0/50 [00:00<?, ?it/s]"
            ]
          },
          "metadata": {},
          "output_type": "display_data"
        },
        {
          "data": {
            "application/vnd.jupyter.widget-view+json": {
              "model_id": "c1deabed65a643e484615d8cbe9845c1",
              "version_major": 2,
              "version_minor": 0
            },
            "text/plain": [
              "Epoch 94:   0%|          | 0/100 [00:00<?, ?it/s]"
            ]
          },
          "metadata": {},
          "output_type": "display_data"
        },
        {
          "data": {
            "application/vnd.jupyter.widget-view+json": {
              "model_id": "c4bb93bc3573456e8333dfc63f9a35ff",
              "version_major": 2,
              "version_minor": 0
            },
            "text/plain": [
              "Validation:   0%|          | 0/50 [00:00<?, ?it/s]"
            ]
          },
          "metadata": {},
          "output_type": "display_data"
        },
        {
          "name": "stdout",
          "output_type": "stream",
          "text": [
            "Found a new best model.\n"
          ]
        },
        {
          "data": {
            "application/vnd.jupyter.widget-view+json": {
              "model_id": "f9d9149bf794421b8e02e0fdc1edbdd1",
              "version_major": 2,
              "version_minor": 0
            },
            "text/plain": [
              "Epoch 95:   0%|          | 0/100 [00:00<?, ?it/s]"
            ]
          },
          "metadata": {},
          "output_type": "display_data"
        },
        {
          "data": {
            "application/vnd.jupyter.widget-view+json": {
              "model_id": "c19be8cb4fe54c69bfef1f7be84cf241",
              "version_major": 2,
              "version_minor": 0
            },
            "text/plain": [
              "Validation:   0%|          | 0/50 [00:00<?, ?it/s]"
            ]
          },
          "metadata": {},
          "output_type": "display_data"
        },
        {
          "data": {
            "application/vnd.jupyter.widget-view+json": {
              "model_id": "1b3f4d362eaa4feeb95c337fa63971ec",
              "version_major": 2,
              "version_minor": 0
            },
            "text/plain": [
              "Epoch 96:   0%|          | 0/100 [00:00<?, ?it/s]"
            ]
          },
          "metadata": {},
          "output_type": "display_data"
        },
        {
          "data": {
            "application/vnd.jupyter.widget-view+json": {
              "model_id": "272fc95fc63d44248ed960205031419a",
              "version_major": 2,
              "version_minor": 0
            },
            "text/plain": [
              "Validation:   0%|          | 0/50 [00:00<?, ?it/s]"
            ]
          },
          "metadata": {},
          "output_type": "display_data"
        },
        {
          "data": {
            "application/vnd.jupyter.widget-view+json": {
              "model_id": "076bc64256ee4734ab8852d52aab7226",
              "version_major": 2,
              "version_minor": 0
            },
            "text/plain": [
              "Epoch 97:   0%|          | 0/100 [00:00<?, ?it/s]"
            ]
          },
          "metadata": {},
          "output_type": "display_data"
        },
        {
          "data": {
            "application/vnd.jupyter.widget-view+json": {
              "model_id": "36d4ab05ae3f4419b8ade28b17c31234",
              "version_major": 2,
              "version_minor": 0
            },
            "text/plain": [
              "Validation:   0%|          | 0/50 [00:00<?, ?it/s]"
            ]
          },
          "metadata": {},
          "output_type": "display_data"
        },
        {
          "data": {
            "application/vnd.jupyter.widget-view+json": {
              "model_id": "717af646402044659791cfebc5a5852e",
              "version_major": 2,
              "version_minor": 0
            },
            "text/plain": [
              "Epoch 98:   0%|          | 0/100 [00:00<?, ?it/s]"
            ]
          },
          "metadata": {},
          "output_type": "display_data"
        },
        {
          "data": {
            "application/vnd.jupyter.widget-view+json": {
              "model_id": "36d4b50d9c5c4f48a9d441c8f9d5b23d",
              "version_major": 2,
              "version_minor": 0
            },
            "text/plain": [
              "Validation:   0%|          | 0/50 [00:00<?, ?it/s]"
            ]
          },
          "metadata": {},
          "output_type": "display_data"
        },
        {
          "data": {
            "application/vnd.jupyter.widget-view+json": {
              "model_id": "6cddef2f08384decb842368cee276858",
              "version_major": 2,
              "version_minor": 0
            },
            "text/plain": [
              "Epoch 99:   0%|          | 0/100 [00:00<?, ?it/s]"
            ]
          },
          "metadata": {},
          "output_type": "display_data"
        },
        {
          "data": {
            "application/vnd.jupyter.widget-view+json": {
              "model_id": "e02368bf86174b3ca13be0cc22389451",
              "version_major": 2,
              "version_minor": 0
            },
            "text/plain": [
              "Validation:   0%|          | 0/50 [00:00<?, ?it/s]"
            ]
          },
          "metadata": {},
          "output_type": "display_data"
        },
        {
          "data": {
            "application/vnd.jupyter.widget-view+json": {
              "model_id": "4bfc0ea545674b78b1a0c7f3005b3048",
              "version_major": 2,
              "version_minor": 0
            },
            "text/plain": [
              "Epoch 100:   0%|          | 0/100 [00:00<?, ?it/s]"
            ]
          },
          "metadata": {},
          "output_type": "display_data"
        },
        {
          "data": {
            "application/vnd.jupyter.widget-view+json": {
              "model_id": "34b8e4a67ebb4ef5ba46028db5f2edc5",
              "version_major": 2,
              "version_minor": 0
            },
            "text/plain": [
              "Validation:   0%|          | 0/50 [00:00<?, ?it/s]"
            ]
          },
          "metadata": {},
          "output_type": "display_data"
        },
        {
          "name": "stdout",
          "output_type": "stream",
          "text": [
            "Found a new best model.\n"
          ]
        }
      ],
      "source": [
        "train_model(few_shot_classifier, optimizer, scheduler, train_loader, loss_module, num_epochs=100)"
      ]
    },
    {
      "cell_type": "code",
      "execution_count": null,
      "metadata": {},
      "outputs": [],
      "source": [
        "%tensorboard --logdir runs/our_experiment"
      ]
    },
    {
      "cell_type": "code",
      "execution_count": 10,
      "metadata": {},
      "outputs": [],
      "source": [
        "batch_size = 128\n",
        "dataset_path = 'animals_dataset'\n",
        "labelmap_path = 'animals_label_map.json'\n",
        "\n",
        "class_data = ClassData.get_class_data(dataset_path, labelmap_path, val_transform)\n",
        "dataset = CustomDataset(class_data)\n",
        "\n",
        "data_loader = DataLoader(dataset, batch_size=batch_size, shuffle=False)"
      ]
    },
    {
      "cell_type": "code",
      "execution_count": null,
      "metadata": {},
      "outputs": [],
      "source": [
        "embeddings_df = predict_embeddings(data_loader, resnet, device=device)\n",
        "features_dataset = FeaturesDataset.from_dataframe(embeddings_df)"
      ]
    },
    {
      "cell_type": "code",
      "execution_count": 12,
      "metadata": {},
      "outputs": [],
      "source": [
        "task_sampler = TaskSampler(features_dataset, n_way=N, n_shot=K, n_query=n_query, n_tasks=100)\n",
        "\n",
        "features_loader = DataLoader(features_dataset, batch_sampler=task_sampler, pin_memory=True, collate_fn=task_sampler.episodic_collate_fn)"
      ]
    },
    {
      "cell_type": "code",
      "execution_count": 27,
      "metadata": {},
      "outputs": [
        {
          "data": {
            "application/vnd.jupyter.widget-view+json": {
              "model_id": "e8908b951b1141c784cc94419f14ec0a",
              "version_major": 2,
              "version_minor": 0
            },
            "text/plain": [
              "  0%|          | 0/100 [00:00<?, ?it/s]"
            ]
          },
          "metadata": {},
          "output_type": "display_data"
        },
        {
          "name": "stdout",
          "output_type": "stream",
          "text": [
            "Average accuracy : 26.080000 %\n",
            "Macro precision: 25.990787%\n",
            "Macro recall: 26.080000%\n",
            "F1: 0.13603328000000003\n"
          ]
        }
      ],
      "source": [
        "few_shot_classifier = PrototypicalNetworks(resnet).to(device)\n",
        "few_shot_classifier.load_state_dict(torch.load('models\\our_experiment\\model100.pt'))\n",
        "few_shot_classifier = PrototypicalNetworks(backbone=nn.Identity())\n",
        "\n",
        "accuracy, _, macro_precision, macro_recall, f1 = evaluate(few_shot_classifier, loss_module, features_loader, device=\"cpu\")\n",
        "\n",
        "print(f\"Average accuracy : {(100 * accuracy):.6f} %\\nMacro precision: {(100 * macro_precision):.6f}%\\nMacro recall: {(100 * macro_recall):.6f}%\\nF1: {f1}\")"
      ]
    }
  ],
  "metadata": {
    "colab": {
      "provenance": []
    },
    "kernelspec": {
      "display_name": "Python 3",
      "name": "python3"
    },
    "language_info": {
      "codemirror_mode": {
        "name": "ipython",
        "version": 3
      },
      "file_extension": ".py",
      "mimetype": "text/x-python",
      "name": "python",
      "nbconvert_exporter": "python",
      "pygments_lexer": "ipython3",
      "version": "3.10.1"
    }
  },
  "nbformat": 4,
  "nbformat_minor": 0
}
